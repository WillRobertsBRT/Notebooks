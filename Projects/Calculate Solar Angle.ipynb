{
 "cells": [
  {
   "cell_type": "markdown",
   "metadata": {},
   "source": [
    "## Determine The Solar Angle of DCM and Machine Images\n",
    "\n",
    "This notebook calculates the solar angle of field images at the moment they were taken.\n",
    "\n",
    "The solar angle angle is calculated from the timestamps, adjusted to the local time zone, latitude and longitude."
   ]
  },
  {
   "cell_type": "code",
   "execution_count": 2,
   "metadata": {},
   "outputs": [
    {
     "name": "stdout",
     "output_type": "stream",
     "text": [
      "Queried 504688 images in 396.51 s.\n"
     ]
    }
   ],
   "source": [
    "# Import libraries and query Aletheia\n",
    "# You may need to install some of these libraries\n",
    "\n",
    "import time\n",
    "import numpy as np\n",
    "import pandas as pd\n",
    "from datetime import datetime as dt\n",
    "from timezonefinder import TimezoneFinderL\n",
    "import pytz\n",
    "from pysolar.solar import *\n",
    "from brtdevkit.core.db import DBConnector, DatetimeFilter\n",
    "import matplotlib.pyplot as plt\n",
    "from matplotlib import rcParams\n",
    "rcParams['font.size'] = 18 # Set global font size for plots\n",
    "%matplotlib inline\n",
    "\n",
    "def get_shasta_data(filters={}, start=None, end=None, limit=None):\n",
    "    \"\"\"\n",
    "    Query relevant Shasta data for calculations. Written by Andrei P.\n",
    "    \"\"\"\n",
    "    start_time = time.time()\n",
    "    connector = DBConnector()\n",
    "    img_filters = {'project_name': 'shasta', **filters}\n",
    "    if start is not None or end is not None:\n",
    "        img_filters = [img_filters, DatetimeFilter(key=\"collected_on\", start=start, end=end)]\n",
    "    df = connector.get_documents_df('image', img_filters, limit=limit)\n",
    "    elapsed_time = time.time() - start_time\n",
    "    return df, elapsed_time\n",
    "\n",
    "# Set filters \n",
    "filters = {\"artifacts.kind\": \"nrg\", \n",
    "           \"crop_name\": {\"$in\": ['CORN', 'COTTON', 'SOYBEANS']}, \n",
    "           \"robot_name\": {\"$in\": [\"DCM-MANATEE\",\"DCM-OTTER\", \"DCM-DOLPHIN\", \"DCM-WALRUS\", \"DCM-PORPOISE\", \"DCM-SEAL\"]} }\n",
    "\n",
    "start = dt(2020, 3, 7)\n",
    "\n",
    "df, elapsed_time = get_shasta_data(filters=filters, start=start)\n",
    "df['date_collected'] = pd.to_datetime(df['collected_on'].dt.date)\n",
    "print(f\"Queried {len(df)} images in {elapsed_time:.2f} s.\")"
   ]
  },
  {
   "cell_type": "code",
   "execution_count": 3,
   "metadata": {},
   "outputs": [
    {
     "name": "stdout",
     "output_type": "stream",
     "text": [
      "The unique timezones of this dataset are: \n",
      "['America/Chicago' 'America/Matamoros' 'America/Indiana/Vincennes'\n",
      " 'America/New_York' 'America/Denver' 'America/Indiana/Indianapolis'\n",
      " 'America/Winnipeg' 'America/Detroit'].\n",
      "11.9% of images were collected in the US-Eastern time zone\n",
      "86.0% of images were collected in the US-Central time zone\n",
      "2.1% of images were collected in the US-Western time zone\n"
     ]
    }
   ],
   "source": [
    "# Find timezones for each image\n",
    "\n",
    "tf = TimezoneFinderL() # Instantiate TimezoneFinder Light\n",
    "\n",
    "timestamp = df['collected_on'].tolist()\n",
    "features = [d.get('coordinates') for d in df.gnss] # Extract GPS coordinates\n",
    "lat = [features[i][1] for i in range(len(features))]\n",
    "lng = [features[i][0] for i in range(len(features))]\n",
    "tz = [tf.timezone_at(lat=lat[i], lng=lng[i]) for i in range(len(features))] # Get Timezones\n",
    "\n",
    "# Create Dataframe of Relevant Features\n",
    "tzs = pd.DataFrame({'_id':df.index, 'lng':lng,'lat':lat, 'timestamp':timestamp, 'tz':tz})\n",
    "tzs['timestamp'] = pd.to_datetime(tzs['timestamp'])\n",
    "tzs.set_index('timestamp', inplace=True) # Set DateTimeIndex\n",
    "tzs.index = tzs.index.tz_localize('UTC')# Make DatTimeIndex Timezone Aware\n",
    "tzs = tzs.dropna()\n",
    "\n",
    "# At this point there is a DateTimeIndex that is 'utc' localized and timezone aware\n",
    "print(f'The unique timezones of this dataset are: \\n{tzs.tz.unique()}.')\n",
    "\n",
    "# Proportions of Different timezones\n",
    "east = tzs[tzs['tz'].isin(['America/New_York','America/Indiana/Vincennes','America/Indiana/Indianapolis'  ])]\n",
    "cent = tzs[tzs['tz'].isin(['America/Chicago' ,'America/Matamoros', 'America/Winnipeg', 'America/Detroit'])]\n",
    "west = tzs[tzs['tz'].isin(['America/Denver'])]\n",
    "\n",
    "print(f'{(len(east)/len(tzs))*100:.1f}% of images were collected in the US-Eastern time zone')\n",
    "print(f'{(len(cent)/len(tzs))*100:.1f}% of images were collected in the US-Central time zone')\n",
    "print(f'{(len(west)/len(tzs))*100:.1f}% of images were collected in the US-Western time zone')"
   ]
  },
  {
   "cell_type": "code",
   "execution_count": 4,
   "metadata": {},
   "outputs": [],
   "source": [
    "# Adjust timestamps to a timezone-aware local time\n",
    "# The timestamps are encoded in the field as 'utc' time and must be adjusted to the local timezone.\n",
    "\n",
    "tzaware = []\n",
    "for i in range(len(tzs)):\n",
    "    l = pytz.timezone(tzs['tz'][i]) # create timezone object\n",
    "    m = tzs.index[i].astimezone(l) # adjust from utc to local time zone\n",
    "    tzaware.append(m)"
   ]
  },
  {
   "cell_type": "code",
   "execution_count": 5,
   "metadata": {},
   "outputs": [
    {
     "name": "stderr",
     "output_type": "stream",
     "text": [
      "/home/williamroberts/code/brtdevkit/venv/lib/python3.6/site-packages/pysolar/solartime.py:112: UserWarning: I don't know about leap seconds after 2018\n",
      "  (leap_seconds_base_year + len(leap_seconds_adjustments) - 1)\n"
     ]
    }
   ],
   "source": [
    "# This cell may take 1-2 minutes to run\n",
    "# Calculate Solar Altitude (angle of sun to horizon)\n",
    "\n",
    "altitude = np.empty(len(tzs))\n",
    "for i in range(0,len(tzs)):\n",
    "    altitude[i] = get_altitude(tzs['lat'][i], tzs['lng'][i] , tzaware[i])"
   ]
  },
  {
   "cell_type": "code",
   "execution_count": 6,
   "metadata": {},
   "outputs": [
    {
     "name": "stdout",
     "output_type": "stream",
     "text": [
      "<class 'pandas.core.frame.DataFrame'>\n",
      "DatetimeIndex: 504088 entries, 2020-03-26 15:52:17.150000+00:00 to 2020-07-25 16:28:24.772000+00:00\n",
      "Data columns (total 5 columns):\n",
      " #   Column       Non-Null Count   Dtype  \n",
      "---  ------       --------------   -----  \n",
      " 0   _id          504088 non-null  object \n",
      " 1   lng          504088 non-null  float64\n",
      " 2   lat          504088 non-null  float64\n",
      " 3   tz           504088 non-null  object \n",
      " 4   solar_angle  504088 non-null  float64\n",
      "dtypes: float64(3), object(2)\n",
      "memory usage: 43.1+ MB\n"
     ]
    }
   ],
   "source": [
    "# add to tzs DataFrame. The tzs dataframe now has a solar angle for every image_id\n",
    "tzs = pd.concat([tzs, pd.Series(altitude, index =tzs.index, name='solar_angle')], axis =1)\n",
    "tzs.info()"
   ]
  },
  {
   "cell_type": "code",
   "execution_count": 9,
   "metadata": {},
   "outputs": [
    {
     "data": {
      "image/png": "[encoded data removed]",
      "text/plain": [
       "<Figure size 864x576 with 1 Axes>"
      ]
     },
     "metadata": {
      "needs_background": "light"
     },
     "output_type": "display_data"
    }
   ],
   "source": [
    "# Plot a nicely formatted histogram of all solar angles\n",
    "rcParams['font.size']=16\n",
    "\n",
    "plt.figure(figsize=(12,8))\n",
    "plt.hist(altitude, bins=30, color='darkorange')\n",
    "plt.title('Angle of Sun to Horizon Since 6/24')\n",
    "plt.ylabel('Number of Images Collected')\n",
    "plt.xlim(-10,90)\n",
    "plt.xlabel('Solar Altitude (Degrees)')\n",
    "plt.savefig('Solar_Angle.png')\n",
    "plt.show()"
   ]
  },
  {
   "cell_type": "code",
   "execution_count": 10,
   "metadata": {},
   "outputs": [
    {
     "name": "stdout",
     "output_type": "stream",
     "text": [
      "2.045697746863841\n"
     ]
    }
   ],
   "source": [
    "print(np.min(altitude))"
   ]
  },
  {
   "cell_type": "code",
   "execution_count": null,
   "metadata": {},
   "outputs": [],
   "source": []
  }
 ],
 "metadata": {
  "kernelspec": {
   "display_name": "Python 3",
   "language": "python",
   "name": "python3"
  },
  "language_info": {
   "codemirror_mode": {
    "name": "ipython",
    "version": 3
   },
   "file_extension": ".py",
   "mimetype": "text/x-python",
   "name": "python",
   "nbconvert_exporter": "python",
   "pygments_lexer": "ipython3",
   "version": "3.6.9"
  }
 },
 "nbformat": 4,
 "nbformat_minor": 4
}
