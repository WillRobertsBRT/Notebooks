{
 "cells": [
  {
   "cell_type": "code",
   "execution_count": null,
   "metadata": {},
   "outputs": [],
   "source": [
    "# Import libraries and query Aletheia\n",
    "# May take 1-4 minutes to run depending on query parameters\n",
    "\n",
    "import time\n",
    "import numpy as np\n",
    "import pandas as pd\n",
    "from datetime import datetime as dt\n",
    "from brtdevkit.core.db import DBConnector, DatetimeFilter\n",
    "from matplotlib import pyplot as plt, rcParams\n",
    "import seaborn as sns\n",
    "sns.set_style('whitegrid')\n",
    "\n",
    "def get_shasta_data(filters={}, start=None, end=None, limit=None):\n",
    "    \"\"\"\n",
    "    Query relevant Shasta data for calculations. Written by Andrei P.\n",
    "    \"\"\"\n",
    "    start_time = time.time()\n",
    "    connector = DBConnector()\n",
    "    img_filters = {'project_name': 'shasta', **filters}\n",
    "    if start is not None or end is not None:\n",
    "        img_filters = [img_filters, DatetimeFilter(key=\"collected_on\", start=start, end=end)]\n",
    "    df = connector.get_documents_df('image', img_filters, limit=limit)\n",
    "    elapsed_time = time.time() - start_time\n",
    "    return df, elapsed_time\n",
    "\n",
    "# Set filters for query\n",
    "filters = {\"artifacts.kind\": \"nrg\", \n",
    "           \"crop_name\": {\"$in\": ['CORN', 'COTTON', 'SOYBEANS']}, \n",
    "           \"robot_name\": {\"$in\": [\"DCM-MANATEE\",\"DCM-OTTER\", \"DCM-DOLPHIN\", \"DCM-WALRUS\", \"DCM-PORPOISE\", \"DCM-SEAL\"]} }\n",
    "\n",
    "# Set start date\n",
    "start = dt(2020, 3,1)\n",
    "\n",
    "full_df, elapsed_time = get_shasta_data(filters=filters, start=start)\n",
    "full_df['date_collected'] = pd.to_datetime(full_df['collected_on'].dt.date)\n",
    "print(f\"Queried {len(full_df)} images in {elapsed_time:.2f} s.\")"
   ]
  },
  {
   "cell_type": "code",
   "execution_count": null,
   "metadata": {},
   "outputs": [],
   "source": []
  },
  {
   "cell_type": "code",
   "execution_count": null,
   "metadata": {},
   "outputs": [],
   "source": [
    "print(full_df.tillage_practice.unique())\n",
    "\n",
    "field_names = ['Cook Farm', 'Dave north south', 'Franzen', '6.5 Acres', 'Kixmiller']\n",
    "field_recalls = [0.71316,0.34483,  0.8126, 0.3276, 0.71321]\n",
    "\n",
    "\n",
    "plt.figure(figsize=(10,6))\n",
    "plt.title('Small Crop, High Residue Fields')\n",
    "plt.bar(field_names, field_recalls, color ='plum')\n",
    "plt.ylabel('Grid Instance Recall')\n",
    "#plt.savefig('high_residue.png')\n",
    "plt.show()"
   ]
  }
 ],
 "metadata": {
  "kernelspec": {
   "display_name": "Python 3",
   "language": "python",
   "name": "python3"
  },
  "language_info": {
   "codemirror_mode": {
    "name": "ipython",
    "version": 3
   },
   "file_extension": ".py",
   "mimetype": "text/x-python",
   "name": "python",
   "nbconvert_exporter": "python",
   "pygments_lexer": "ipython3",
   "version": "3.6.9"
  }
 },
 "nbformat": 4,
 "nbformat_minor": 4
}
