{
 "cells": [
  {
   "cell_type": "markdown",
   "metadata": {},
   "source": [
    "Spyglass User Guide: https://docs.google.com/document/d/1OwC12iPhth5uVAWnWLWPFwCgSgHFwbhsWLmYZ3FfUXs/edit"
   ]
  },
  {
   "cell_type": "code",
   "execution_count": 8,
   "metadata": {},
   "outputs": [],
   "source": [
    "import os\n",
    "\n",
    "os.environ['BRT_DEV'] = 'prod' # or 'dev'"
   ]
  },
  {
   "cell_type": "code",
   "execution_count": 9,
   "metadata": {},
   "outputs": [],
   "source": [
    "from brtdevkit.ml import Workflow\n",
    "\n",
    "spyglass = Workflow.retrieve('Spyglass')"
   ]
  },
  {
   "cell_type": "code",
   "execution_count": 10,
   "metadata": {},
   "outputs": [],
   "source": [
    "# Update a spyglass annotation (Fromm Divya K)\n",
    "\n",
    "result = spyglass.submit(env='prod', annotation_filter={'is_active_version': True, \n",
    "                                                  'style': {'$in': ['pixelwise']}, 'state': {'$in': ['ok']}, \n",
    "                                                  'kind': {'$in': ['labelbox']}},  update_analysis_id=\"5f076870097d6ca3bac42e95\")\n",
    "\n"
   ]
  },
  {
   "cell_type": "code",
   "execution_count": null,
   "metadata": {},
   "outputs": [],
   "source": [
    "\n"
   ]
  }
 ],
 "metadata": {
  "kernelspec": {
   "display_name": "Python 3",
   "language": "python",
   "name": "python3"
  },
  "language_info": {
   "codemirror_mode": {
    "name": "ipython",
    "version": 3
   },
   "file_extension": ".py",
   "mimetype": "text/x-python",
   "name": "python",
   "nbconvert_exporter": "python",
   "pygments_lexer": "ipython3",
   "version": "3.6.9"
  }
 },
 "nbformat": 4,
 "nbformat_minor": 4
}
