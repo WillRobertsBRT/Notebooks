{
 "cells": [
  {
   "cell_type": "markdown",
   "metadata": {},
   "source": [
    "## Camera Heights\n",
    "\n",
    "Notebook to examine the camera_height paramter from the image metadata in depth"
   ]
  },
  {
   "cell_type": "code",
   "execution_count": 23,
   "metadata": {},
   "outputs": [
    {
     "name": "stdout",
     "output_type": "stream",
     "text": [
      "The autoreload extension is already loaded. To reload it, use:\n",
      "  %reload_ext autoreload\n"
     ]
    }
   ],
   "source": [
    "import ipywidgets as widgets\n",
    "import xdcm_dash_functions as f\n",
    "from matplotlib import rcParams\n",
    "\n",
    "%load_ext autoreload\n",
    "%autoreload 2\n",
    "%matplotlib inline\n",
    "\n",
    "from xdcm_dash_functions import *\n",
    "\n",
    "\"\"\"\n",
    "Colorization and visualization utilities.\n",
    "\"\"\"\n",
    "\n",
    "import numpy as np\n",
    "import skimage.transform as skt\n",
    "\n",
    "#from brtlearn.shared import config\n",
    "PIX_DATA_CLASS_DIRT = 0\n",
    "PIX_DATA_CLASS_WEED = 1\n",
    "PIX_DATA_CLASS_CROP = 2"
   ]
  },
  {
   "cell_type": "code",
   "execution_count": 24,
   "metadata": {
    "scrolled": true
   },
   "outputs": [
    {
     "name": "stderr",
     "output_type": "stream",
     "text": [
      "\u001b[31;1m2020-07-22 12:04:55,762 - APIRequestor - ERROR - API Authentication failed. rcode: 401, message: b'{\"message\":\"Invalid OAuth access token\"}\\n'\n",
      "\u001b[0m\u001b[34;1m2020-07-22 12:04:55,762 - APIRequestor - INFO - API access token expired. Refreshing tokens now.\n",
      "\u001b[0m"
     ]
    },
    {
     "name": "stdout",
     "output_type": "stream",
     "text": [
      "Queried 504643 images in 373.02 s.\n"
     ]
    }
   ],
   "source": [
    "from datetime import datetime\n",
    "\n",
    "# filter out images that are not NRG (e.g no RGB images), robots that are not DCMS and images with no crop label. \n",
    "filters = {\"artifacts.kind\": \"nrg\", \"crop_name\": {\"$in\": ['CORN', 'COTTON', 'SOYBEANS']}, \n",
    "           \"robot_name\": {\"$in\": [\"DCM-MANATEE\",\"DCM-OTTER\",\"DCM-DOLPHIN\", \"DCM-WALRUS\", \"DCM-PORPOISE\", \"DCM-SEAL\"]} }\n",
    "start = datetime(2020, 3,7)\n",
    "full_df, elapsed_time = f.get_shasta_data(filters=filters, start=start)\n",
    "full_df['date_collected'] = pd.to_datetime(full_df['collected_on'].dt.date)\n",
    "print(f\"Queried {len(full_df)} images in {elapsed_time:.2f} s.\")"
   ]
  },
  {
   "cell_type": "code",
   "execution_count": 34,
   "metadata": {},
   "outputs": [
    {
     "data": {
      "image/png": "[encoded data removed]",
      "text/plain": [
       "<Figure size 432x288 with 1 Axes>"
      ]
     },
     "metadata": {},
     "output_type": "display_data"
    },
    {
     "data": {
      "text/plain": [
       "crop_height\n",
       "LARGE      2597\n",
       "MEDIUM    45580\n",
       "SMALL     55823\n",
       "Name: _id, dtype: int64"
      ]
     },
     "execution_count": 34,
     "metadata": {},
     "output_type": "execute_result"
    }
   ],
   "source": [
    "qdf = full_df.copy()\n",
    "qdf = qdf[qdf['crop_name']=='COTTON']\n",
    "\n",
    "ch_classes = qdf.groupby('crop_height').count()['_id']\n",
    "plt.title('2020 Cotton Crop Height Classes (On 7/22)')\n",
    "plt.bar(ch_classes.index, ch_classes, color='goldenrod')\n",
    "plt.ylabel('Number of Images')\n",
    "plt.savefig('cotton_size.png')\n",
    "\n",
    "plt.show()\n",
    "\n",
    "ch_classes"
   ]
  },
  {
   "cell_type": "code",
   "execution_count": 25,
   "metadata": {},
   "outputs": [
    {
     "name": "stdout",
     "output_type": "stream",
     "text": [
      "170\n",
      "n_heights\n",
      "1      8\n",
      "2      3\n",
      "3    151\n",
      "4      2\n",
      "5      5\n",
      "6      1\n",
      "Name: field, dtype: int64\n"
     ]
    }
   ],
   "source": [
    "# Derive Crop Height from Camera Height\n",
    "qdf = full_df.copy()\n",
    "sns.set_style('dark')\n",
    "qdf =qdf[qdf['crop_name']=='COTTON']\n",
    "\n",
    "qdf['camera_height_inches'] = qdf.camera_height*39.37 # Convert camera_height from meters to inches\n",
    "qdf = qdf.groupby(['grower', 'farm', 'operating_field_name', 'crop_name','robot_name','camera_height']).count()['_id']\n",
    "qdf = pd.DataFrame(qdf).reset_index()\n",
    "qdf = qdf.set_index('grower')\n",
    "qdf['grower_name'] = qdf.index\n",
    "\n",
    "qdf['camera_height_in'] = qdf.camera_height*39.37\n",
    "\n",
    "names = qdf['operating_field_name'].unique()\n",
    "print(len(names))\n",
    "\n",
    "min_height = []\n",
    "max_height = []\n",
    "n_heights = []\n",
    "\n",
    "for n in names:\n",
    "    ofn = qdf[qdf['operating_field_name']==n]\n",
    "    heights = ofn['camera_height_in'].unique()\n",
    "    n_heights.append(len(heights))\n",
    "    max_height.append(max(heights))\n",
    "    min_height.append(min(heights))\n",
    "\n",
    "ch = pd.DataFrame({'field':names, 'n_heights':n_heights, 'max_height':max_height, 'min_height':min_height})\n",
    "print(ch.groupby('n_heights').count()['field'])\n",
    "#ch[ch['n_heights'] == 3\n",
    "\n",
    "ch = ch[ch['max_height']<200]\n",
    "ch['putative_crop_height'] = ch['min_height']- 40\n",
    "ch['put_2'] = ch['max_height'] -60\n",
    "ch=ch[ch['n_heights']==3]"
   ]
  },
  {
   "cell_type": "code",
   "execution_count": 27,
   "metadata": {},
   "outputs": [
    {
     "data": {
      "image/png": "[encoded data removed]",
      "text/plain": [
       "<Figure size 432x288 with 1 Axes>"
      ]
     },
     "metadata": {},
     "output_type": "display_data"
    }
   ],
   "source": [
    "#plt.hist(ch['putative_crop_height'], bins=30, alpha=0.5)\n",
    "plt.hist(ch['put_2'], bins=30, color='tomato', alpha=0.5)\n",
    "plt.title('COTTON - 2020 Inferred Crop Height Distribution')\n",
    "#plt.savefig('soybean camera height.png')\n",
    "plt.show()"
   ]
  },
  {
   "cell_type": "code",
   "execution_count": 17,
   "metadata": {},
   "outputs": [
    {
     "data": {
      "image/png": "[encoded data removed]",
      "text/plain": [
       "<Figure size 864x576 with 1 Axes>"
      ]
     },
     "metadata": {},
     "output_type": "display_data"
    },
    {
     "data": {
      "text/html": [
       "<div>\n",
       "<style scoped>\n",
       "    .dataframe tbody tr th:only-of-type {\n",
       "        vertical-align: middle;\n",
       "    }\n",
       "\n",
       "    .dataframe tbody tr th {\n",
       "        vertical-align: top;\n",
       "    }\n",
       "\n",
       "    .dataframe thead th {\n",
       "        text-align: right;\n",
       "    }\n",
       "</style>\n",
       "<table border=\"1\" class=\"dataframe\">\n",
       "  <thead>\n",
       "    <tr style=\"text-align: right;\">\n",
       "      <th></th>\n",
       "      <th></th>\n",
       "      <th></th>\n",
       "      <th>_id</th>\n",
       "      <th>is_deleted</th>\n",
       "      <th>collected_on</th>\n",
       "      <th>gnss</th>\n",
       "      <th>annotations</th>\n",
       "      <th>artifacts</th>\n",
       "      <th>has_human_annotation</th>\n",
       "      <th>uuid</th>\n",
       "      <th>angle_to_row</th>\n",
       "      <th>camera_exposure_algo</th>\n",
       "      <th>...</th>\n",
       "      <th>robot_name</th>\n",
       "      <th>artifacts_content_hash</th>\n",
       "      <th>camera_height</th>\n",
       "      <th>camera_ppi</th>\n",
       "      <th>gps_quality</th>\n",
       "      <th>isp_version</th>\n",
       "      <th>latitude</th>\n",
       "      <th>longitude</th>\n",
       "      <th>notes</th>\n",
       "      <th>date_collected</th>\n",
       "    </tr>\n",
       "    <tr>\n",
       "      <th>grower</th>\n",
       "      <th>farm</th>\n",
       "      <th>operating_field_name</th>\n",
       "      <th></th>\n",
       "      <th></th>\n",
       "      <th></th>\n",
       "      <th></th>\n",
       "      <th></th>\n",
       "      <th></th>\n",
       "      <th></th>\n",
       "      <th></th>\n",
       "      <th></th>\n",
       "      <th></th>\n",
       "      <th></th>\n",
       "      <th></th>\n",
       "      <th></th>\n",
       "      <th></th>\n",
       "      <th></th>\n",
       "      <th></th>\n",
       "      <th></th>\n",
       "      <th></th>\n",
       "      <th></th>\n",
       "      <th></th>\n",
       "      <th></th>\n",
       "    </tr>\n",
       "  </thead>\n",
       "  <tbody>\n",
       "    <tr>\n",
       "      <th rowspan=\"2\" valign=\"top\">Ryan Bergman</th>\n",
       "      <th rowspan=\"2\" valign=\"top\">ISU/JDTIC</th>\n",
       "      <th>Agronomy Strip Trials</th>\n",
       "      <td>900</td>\n",
       "      <td>900</td>\n",
       "      <td>900</td>\n",
       "      <td>900</td>\n",
       "      <td>900</td>\n",
       "      <td>900</td>\n",
       "      <td>900</td>\n",
       "      <td>900</td>\n",
       "      <td>900</td>\n",
       "      <td>900</td>\n",
       "      <td>...</td>\n",
       "      <td>900</td>\n",
       "      <td>900</td>\n",
       "      <td>900</td>\n",
       "      <td>900</td>\n",
       "      <td>900</td>\n",
       "      <td>900</td>\n",
       "      <td>900</td>\n",
       "      <td>900</td>\n",
       "      <td>900</td>\n",
       "      <td>900</td>\n",
       "    </tr>\n",
       "    <tr>\n",
       "      <th>JDTIC</th>\n",
       "      <td>879</td>\n",
       "      <td>879</td>\n",
       "      <td>879</td>\n",
       "      <td>879</td>\n",
       "      <td>879</td>\n",
       "      <td>879</td>\n",
       "      <td>879</td>\n",
       "      <td>879</td>\n",
       "      <td>879</td>\n",
       "      <td>879</td>\n",
       "      <td>...</td>\n",
       "      <td>879</td>\n",
       "      <td>879</td>\n",
       "      <td>879</td>\n",
       "      <td>879</td>\n",
       "      <td>879</td>\n",
       "      <td>879</td>\n",
       "      <td>879</td>\n",
       "      <td>879</td>\n",
       "      <td>0</td>\n",
       "      <td>879</td>\n",
       "    </tr>\n",
       "    <tr>\n",
       "      <th>condrey</th>\n",
       "      <th>condrey farms</th>\n",
       "      <th>c72</th>\n",
       "      <td>601</td>\n",
       "      <td>601</td>\n",
       "      <td>601</td>\n",
       "      <td>601</td>\n",
       "      <td>601</td>\n",
       "      <td>601</td>\n",
       "      <td>601</td>\n",
       "      <td>601</td>\n",
       "      <td>601</td>\n",
       "      <td>601</td>\n",
       "      <td>...</td>\n",
       "      <td>601</td>\n",
       "      <td>601</td>\n",
       "      <td>601</td>\n",
       "      <td>601</td>\n",
       "      <td>601</td>\n",
       "      <td>601</td>\n",
       "      <td>601</td>\n",
       "      <td>601</td>\n",
       "      <td>17</td>\n",
       "      <td>601</td>\n",
       "    </tr>\n",
       "  </tbody>\n",
       "</table>\n",
       "<p>3 rows × 50 columns</p>\n",
       "</div>"
      ],
      "text/plain": [
       "                                                  _id  is_deleted  \\\n",
       "grower       farm          operating_field_name                     \n",
       "Ryan Bergman ISU/JDTIC     Agronomy Strip Trials  900         900   \n",
       "                           JDTIC                  879         879   \n",
       "condrey      condrey farms c72                    601         601   \n",
       "\n",
       "                                                  collected_on  gnss  \\\n",
       "grower       farm          operating_field_name                        \n",
       "Ryan Bergman ISU/JDTIC     Agronomy Strip Trials           900   900   \n",
       "                           JDTIC                           879   879   \n",
       "condrey      condrey farms c72                             601   601   \n",
       "\n",
       "                                                  annotations  artifacts  \\\n",
       "grower       farm          operating_field_name                            \n",
       "Ryan Bergman ISU/JDTIC     Agronomy Strip Trials          900        900   \n",
       "                           JDTIC                          879        879   \n",
       "condrey      condrey farms c72                            601        601   \n",
       "\n",
       "                                                  has_human_annotation  uuid  \\\n",
       "grower       farm          operating_field_name                                \n",
       "Ryan Bergman ISU/JDTIC     Agronomy Strip Trials                   900   900   \n",
       "                           JDTIC                                   879   879   \n",
       "condrey      condrey farms c72                                     601   601   \n",
       "\n",
       "                                                  angle_to_row  \\\n",
       "grower       farm          operating_field_name                  \n",
       "Ryan Bergman ISU/JDTIC     Agronomy Strip Trials           900   \n",
       "                           JDTIC                           879   \n",
       "condrey      condrey farms c72                             601   \n",
       "\n",
       "                                                  camera_exposure_algo  ...  \\\n",
       "grower       farm          operating_field_name                         ...   \n",
       "Ryan Bergman ISU/JDTIC     Agronomy Strip Trials                   900  ...   \n",
       "                           JDTIC                                   879  ...   \n",
       "condrey      condrey farms c72                                     601  ...   \n",
       "\n",
       "                                                  robot_name  \\\n",
       "grower       farm          operating_field_name                \n",
       "Ryan Bergman ISU/JDTIC     Agronomy Strip Trials         900   \n",
       "                           JDTIC                         879   \n",
       "condrey      condrey farms c72                           601   \n",
       "\n",
       "                                                  artifacts_content_hash  \\\n",
       "grower       farm          operating_field_name                            \n",
       "Ryan Bergman ISU/JDTIC     Agronomy Strip Trials                     900   \n",
       "                           JDTIC                                     879   \n",
       "condrey      condrey farms c72                                       601   \n",
       "\n",
       "                                                  camera_height  camera_ppi  \\\n",
       "grower       farm          operating_field_name                               \n",
       "Ryan Bergman ISU/JDTIC     Agronomy Strip Trials            900         900   \n",
       "                           JDTIC                            879         879   \n",
       "condrey      condrey farms c72                              601         601   \n",
       "\n",
       "                                                  gps_quality  isp_version  \\\n",
       "grower       farm          operating_field_name                              \n",
       "Ryan Bergman ISU/JDTIC     Agronomy Strip Trials          900          900   \n",
       "                           JDTIC                          879          879   \n",
       "condrey      condrey farms c72                            601          601   \n",
       "\n",
       "                                                  latitude  longitude  notes  \\\n",
       "grower       farm          operating_field_name                                \n",
       "Ryan Bergman ISU/JDTIC     Agronomy Strip Trials       900        900    900   \n",
       "                           JDTIC                       879        879      0   \n",
       "condrey      condrey farms c72                         601        601     17   \n",
       "\n",
       "                                                  date_collected  \n",
       "grower       farm          operating_field_name                   \n",
       "Ryan Bergman ISU/JDTIC     Agronomy Strip Trials             900  \n",
       "                           JDTIC                             879  \n",
       "condrey      condrey farms c72                               601  \n",
       "\n",
       "[3 rows x 50 columns]"
      ]
     },
     "execution_count": 17,
     "metadata": {},
     "output_type": "execute_result"
    }
   ],
   "source": [
    "# ARe we annotating more than 600 images per field?\n",
    "\n",
    "from matplotlib import rcParams\n",
    "\n",
    "rcParams['font.size'] = 16\n",
    "\n",
    "qdf = full_df.copy()\n",
    "an =qdf[qdf['has_human_annotation'] == True]\n",
    "\n",
    "an_fields = an.groupby(['grower', 'farm', 'operating_field_name']).count()\n",
    "\n",
    "sns.set_style('whitegrid')\n",
    "plt.figure(figsize=(12,8))\n",
    "plt.title('Number of Annotated Images per Field')\n",
    "plt.xlim(0,1000)\n",
    "plt.hist(an_fields['_id'], bins=20, color='green', linewidth=0)\n",
    "plt.savefig('annotations.png')\n",
    "plt.axvline(600, linestyle='--', color='gold')\n",
    "plt.show()\n",
    "\n",
    "\n",
    "over = an_fields[an_fields['_id']>600]\n",
    "over"
   ]
  },
  {
   "cell_type": "code",
   "execution_count": 23,
   "metadata": {},
   "outputs": [
    {
     "data": {
      "image/png": "[encoded data removed]",
      "text/plain": [
       "<Figure size 864x576 with 1 Axes>"
      ]
     },
     "metadata": {},
     "output_type": "display_data"
    },
    {
     "data": {
      "text/plain": [
       "grower          crop_name\n",
       "greenway coop   SOYBEANS     7114\n",
       "hoelscher bros  CORN         1828\n",
       "shewmaker       COTTON       1821\n",
       "skiles          CORN         2185\n",
       "Name: _id, dtype: int64"
      ]
     },
     "execution_count": 23,
     "metadata": {},
     "output_type": "execute_result"
    }
   ],
   "source": [
    "# Are we annotating more than 1800 images for any grower/crop combination?\n",
    "\n",
    "qdf = full_df.copy()\n",
    "an =qdf[qdf['has_human_annotation'] == True]\n",
    "\n",
    "an_growers = an.groupby(['grower','crop_name']).count()\n",
    "\n",
    "sns.set_style('whitegrid')\n",
    "plt.figure(figsize=(12,8))\n",
    "plt.title('Number of Annotated Images per Grower')\n",
    "#plt.xlim(0,1000)\n",
    "plt.hist(an_growers['_id'], bins=20, color='green', linewidth=0)\n",
    "plt.savefig('annotations_grower.png')\n",
    "plt.axvline(1800, linestyle='--', color='gold')\n",
    "plt.show()\n",
    "\n",
    "overg = an_growers[an_growers['_id']>1800]\n",
    "overg['_id']"
   ]
  },
  {
   "cell_type": "markdown",
   "metadata": {},
   "source": [
    "## Table of Camera Heights that put them into three classes: Low, Medium and High"
   ]
  },
  {
   "cell_type": "code",
   "execution_count": 14,
   "metadata": {},
   "outputs": [
    {
     "name": "stdout",
     "output_type": "stream",
     "text": [
      "There are 766 total field - height combinations\n",
      "There are 252 annotated fields\n",
      "The final images dataframe has 766 total fields\n"
     ]
    },
    {
     "data": {
      "text/plain": [
       "Int64Index([  0,   1,   2,   3,   4,   5,   6,   7,   8,   9,\n",
       "            ...\n",
       "            756, 757, 758, 759, 760, 761, 762, 763, 764, 765],\n",
       "           dtype='int64', length=766)"
      ]
     },
     "execution_count": 14,
     "metadata": {},
     "output_type": "execute_result"
    }
   ],
   "source": [
    "# Table of Camera Heights, Number of Images and Number of Annotated Images\n",
    "\n",
    "def cam_classes(x):\n",
    "    \"\"\"\n",
    "    Classifies the different camera_height values into a 3-tiered range of classes\n",
    "    \"\"\"\n",
    "    if x <50:\n",
    "        return \"LOW\"\n",
    "    elif (x >=50) & (x<=60):\n",
    "        return \"MEDIUM\"\n",
    "    elif x > 60:\n",
    "        return \"HIGH\"\n",
    "    \n",
    "qdf = full_df.copy()\n",
    "annotated = qdf[qdf['has_human_annotation'] == True] # Select All Images With Human Annotation\n",
    "\n",
    "qdf = qdf.groupby(['grower', 'farm', 'operating_field_name', 'crop_name','robot_name','camera_height']).count()['_id']\n",
    "qdf = pd.DataFrame(qdf).reset_index()\n",
    "qdf['camera_height_inches'] = qdf.camera_height*39.37 # Convert camera_height from meters to inches\n",
    "qdf['camera_height_class'] = qdf.camera_height_inches.apply(cam_classes) # Classify camera_height into three classes\n",
    "qdf = qdf.set_index('grower')\n",
    "qdf['grower_name'] = qdf.index # Create a copy of the index to insert later.\n",
    "\n",
    "# There are at least 1466 annotated images that do not have camera_height values associated with them\n",
    "# These were all from QR code tests and can be safely ignored\n",
    "annotated['camera_height_inches'] = annotated.camera_height*39.37\n",
    "annotated['camera_height_class'] = annotated.camera_height_inches.apply(cam_classes)\n",
    "annotated = annotated.groupby(['grower', 'farm', 'operating_field_name','crop_name','robot_name','camera_height']).count()['has_human_annotation']\n",
    "annotated = pd.DataFrame(annotated).reset_index()\n",
    "annotated = annotated.set_index('grower')\n",
    "images = pd.merge(qdf, annotated, how='left') # Merge original df with annotated images df\n",
    "\n",
    "print(f'There are {len(qdf)} total field - height combinations')\n",
    "print(f'There are {len(annotated)} annotated fields')\n",
    "print(f'The final images dataframe has {len(images)} total fields')\n",
    "#images.to_csv('images.csv')\n",
    "images.index"
   ]
  },
  {
   "cell_type": "code",
   "execution_count": 42,
   "metadata": {},
   "outputs": [
    {
     "name": "stdout",
     "output_type": "stream",
     "text": [
      "Index(['camera_height_class', '_id', 'has_human_annotation', 'robot_name'], dtype='object')\n",
      "Index(['robot_name', 'grower_name', 'farm', 'operating_field_name'], dtype='object')\n",
      "MultiIndex([(          'num_images',   'HIGH'),\n",
      "            (          'num_images',    'LOW'),\n",
      "            (          'num_images', 'MEDIUM'),\n",
      "            ('has_human_annotation',   'HIGH'),\n",
      "            ('has_human_annotation',    'LOW'),\n",
      "            ('has_human_annotation', 'MEDIUM')],\n",
      "           names=[None, 'camera_height_class'])\n",
      "Are the pivot table and field identifiers the same length?: True, They are pivot=766, fields=766\n"
     ]
    }
   ],
   "source": [
    "# Second Cell of Camera Height Processing\n",
    "# Pivot images dataframe to move camera_height_class into the columns.\n",
    "#print(images.columns)\n",
    "pivot = images[['camera_height_class', '_id', 'has_human_annotation', 'robot_name']]\n",
    "print(pivot.columns)\n",
    "pivot.rename(columns={'_id': 'num_images'}, inplace=True)\n",
    "fields = images[['robot_name','grower_name', 'farm', 'operating_field_name']] \n",
    "print(fields.columns)\n",
    "\n",
    "pivot = pivot.pivot(columns='camera_height_class', values = ['num_images', 'has_human_annotation'])\n",
    "print(pivot.columns)\n",
    "pivot = pivot.fillna(0)\n",
    "joined = pd.concat([fields, pivot], axis=1)\n",
    "joined = joined.groupby([ 'robot_name','grower_name', 'farm', 'operating_field_name']).sum()\n",
    "joined.to_csv('annoted_images_by_camera_height.csv')\n",
    "\n",
    "print(f'Are the pivot table and field identifiers the same length?: {len(pivot)==len(fields)}, They are pivot={len(pivot)}, fields={len(fields)}')"
   ]
  },
  {
   "cell_type": "code",
   "execution_count": 50,
   "metadata": {},
   "outputs": [
    {
     "name": "stdout",
     "output_type": "stream",
     "text": [
      "<class 'pandas.core.frame.DataFrame'>\n",
      "RangeIndex: 312 entries, 0 to 311\n",
      "Data columns (total 10 columns):\n",
      " #   Column                          Non-Null Count  Dtype  \n",
      "---  ------                          --------------  -----  \n",
      " 0   robot_name                      312 non-null    object \n",
      " 1   grower_name                     312 non-null    object \n",
      " 2   farm                            312 non-null    object \n",
      " 3   operating_field_name            312 non-null    object \n",
      " 4   (num_images, HIGH)              312 non-null    float64\n",
      " 5   (num_images, LOW)               312 non-null    float64\n",
      " 6   (num_images, MEDIUM)            312 non-null    float64\n",
      " 7   (has_human_annotation, HIGH)    312 non-null    float64\n",
      " 8   (has_human_annotation, LOW)     312 non-null    float64\n",
      " 9   (has_human_annotation, MEDIUM)  312 non-null    float64\n",
      "dtypes: float64(6), object(4)\n",
      "memory usage: 24.5+ KB\n",
      "None\n"
     ]
    },
    {
     "data": {
      "text/html": [
       "<div>\n",
       "<style scoped>\n",
       "    .dataframe tbody tr th:only-of-type {\n",
       "        vertical-align: middle;\n",
       "    }\n",
       "\n",
       "    .dataframe tbody tr th {\n",
       "        vertical-align: top;\n",
       "    }\n",
       "\n",
       "    .dataframe thead th {\n",
       "        text-align: right;\n",
       "    }\n",
       "</style>\n",
       "<table border=\"1\" class=\"dataframe\">\n",
       "  <thead>\n",
       "    <tr style=\"text-align: right;\">\n",
       "      <th></th>\n",
       "      <th>robot_name</th>\n",
       "      <th>grower_name</th>\n",
       "      <th>farm</th>\n",
       "      <th>operating_field_name</th>\n",
       "      <th>(num_images, HIGH)</th>\n",
       "      <th>(num_images, LOW)</th>\n",
       "      <th>(num_images, MEDIUM)</th>\n",
       "      <th>(has_human_annotation, HIGH)</th>\n",
       "      <th>(has_human_annotation, LOW)</th>\n",
       "      <th>(has_human_annotation, MEDIUM)</th>\n",
       "    </tr>\n",
       "  </thead>\n",
       "  <tbody>\n",
       "    <tr>\n",
       "      <th>0</th>\n",
       "      <td>DCM-DOLPHIN</td>\n",
       "      <td>123</td>\n",
       "      <td>123</td>\n",
       "      <td>123</td>\n",
       "      <td>13.0</td>\n",
       "      <td>0.0</td>\n",
       "      <td>0.0</td>\n",
       "      <td>0.0</td>\n",
       "      <td>0.0</td>\n",
       "      <td>0.0</td>\n",
       "    </tr>\n",
       "    <tr>\n",
       "      <th>1</th>\n",
       "      <td>DCM-DOLPHIN</td>\n",
       "      <td>31</td>\n",
       "      <td>321</td>\n",
       "      <td>321</td>\n",
       "      <td>557.0</td>\n",
       "      <td>0.0</td>\n",
       "      <td>0.0</td>\n",
       "      <td>0.0</td>\n",
       "      <td>0.0</td>\n",
       "      <td>0.0</td>\n",
       "    </tr>\n",
       "    <tr>\n",
       "      <th>2</th>\n",
       "      <td>DCM-DOLPHIN</td>\n",
       "      <td>Andy Kipker</td>\n",
       "      <td>Baileys</td>\n",
       "      <td>Van Gorder rd</td>\n",
       "      <td>0.0</td>\n",
       "      <td>54.0</td>\n",
       "      <td>0.0</td>\n",
       "      <td>0.0</td>\n",
       "      <td>0.0</td>\n",
       "      <td>0.0</td>\n",
       "    </tr>\n",
       "    <tr>\n",
       "      <th>3</th>\n",
       "      <td>DCM-DOLPHIN</td>\n",
       "      <td>Andy Kipker</td>\n",
       "      <td>Redman</td>\n",
       "      <td>Mountain</td>\n",
       "      <td>0.0</td>\n",
       "      <td>55.0</td>\n",
       "      <td>0.0</td>\n",
       "      <td>0.0</td>\n",
       "      <td>0.0</td>\n",
       "      <td>0.0</td>\n",
       "    </tr>\n",
       "    <tr>\n",
       "      <th>4</th>\n",
       "      <td>DCM-DOLPHIN</td>\n",
       "      <td>Andy Kipker</td>\n",
       "      <td>Redman</td>\n",
       "      <td>Rogers</td>\n",
       "      <td>0.0</td>\n",
       "      <td>63.0</td>\n",
       "      <td>0.0</td>\n",
       "      <td>0.0</td>\n",
       "      <td>0.0</td>\n",
       "      <td>0.0</td>\n",
       "    </tr>\n",
       "  </tbody>\n",
       "</table>\n",
       "</div>"
      ],
      "text/plain": [
       "    robot_name  grower_name     farm operating_field_name  (num_images, HIGH)  \\\n",
       "0  DCM-DOLPHIN          123      123                  123                13.0   \n",
       "1  DCM-DOLPHIN           31      321                  321               557.0   \n",
       "2  DCM-DOLPHIN  Andy Kipker  Baileys        Van Gorder rd                 0.0   \n",
       "3  DCM-DOLPHIN  Andy Kipker   Redman             Mountain                 0.0   \n",
       "4  DCM-DOLPHIN  Andy Kipker   Redman               Rogers                 0.0   \n",
       "\n",
       "   (num_images, LOW)  (num_images, MEDIUM)  (has_human_annotation, HIGH)  \\\n",
       "0                0.0                   0.0                           0.0   \n",
       "1                0.0                   0.0                           0.0   \n",
       "2               54.0                   0.0                           0.0   \n",
       "3               55.0                   0.0                           0.0   \n",
       "4               63.0                   0.0                           0.0   \n",
       "\n",
       "   (has_human_annotation, LOW)  (has_human_annotation, MEDIUM)  \n",
       "0                          0.0                             0.0  \n",
       "1                          0.0                             0.0  \n",
       "2                          0.0                             0.0  \n",
       "3                          0.0                             0.0  \n",
       "4                          0.0                             0.0  "
      ]
     },
     "execution_count": 50,
     "metadata": {},
     "output_type": "execute_result"
    }
   ],
   "source": [
    "robots= joined.reset_index()\n",
    "#print(robots.columns)\n",
    "#robots.columns = robots.columns.str.replace('\\'','')\n",
    "print(robots.info())\n",
    "#robots['total_images'] = robots['(\\'num_images\\', \\'HIGH\\'')'] #+robots['('num_images', 'LOW')'] + robots['('num_images', 'MEDIUM')']\n",
    "\n",
    "#plt.hist()\n",
    "#plt.show()\n",
    "robots.head()"
   ]
  },
  {
   "cell_type": "code",
   "execution_count": 49,
   "metadata": {},
   "outputs": [
    {
     "data": {
      "image/png": "[encoded data removed]",
      "text/plain": [
       "<Figure size 1008x576 with 2 Axes>"
      ]
     },
     "metadata": {},
     "output_type": "display_data"
    }
   ],
   "source": [
    "# Plot Camera Heights For Each of the DCMs\n",
    "\n",
    "rcParams['font.size'] = 14\n",
    "mdf = full_df.copy()\n",
    "mdf['cam_height_inches'] = (mdf['camera_height']*39.37)\n",
    "sns.set_style('white')\n",
    "\n",
    "dcm_list = [\"DCM-MANATEE\",\"DCM-OTTER\",\"DCM-DOLPHIN\", \"DCM-WALRUS\", \"DCM-PORPOISE\", \"DCM-SEAL\"]\n",
    "\n",
    "plt.figure(figsize=(14,8))\n",
    "plt.subplot(1,2,1)\n",
    "qdf = mdf[mdf['robot_name'].isin([\"DCM-MANATEE\", \"DCM-WALRUS\"])]\n",
    "qdf = qdf.groupby('cam_height_inches').count()['_id']\n",
    "qdf= qdf[qdf.index <90]\n",
    "\n",
    "plt.bar(qdf.index, qdf, color='skyblue')\n",
    "plt.title('Camera Heights From Manatee and Walrus')\n",
    "plt.ylabel('Number of Images Collected')\n",
    "plt.xlabel('Camera Height (Inches)')\n",
    "\n",
    "qdf = mdf[mdf['robot_name'].isin([\"DCM-SEAL\", \"DCM-DOLPHIN\", \"DCM-OTTER\"])]\n",
    "qdf = qdf.groupby('cam_height_inches').count()['_id']\n",
    "qdf= qdf[qdf.index <80]\n",
    "plt.subplot(1,2,2)\n",
    "plt.bar(qdf.index, qdf, color='skyblue')\n",
    "plt.title('Camera Heights From Seal, Dolphin and Otter')\n",
    "plt.xlabel('Camera Height (Inches)')\n",
    "plt.savefig('dcm_camera_heights.png')\n",
    "plt.show()"
   ]
  },
  {
   "cell_type": "code",
   "execution_count": null,
   "metadata": {},
   "outputs": [],
   "source": [
    "# Number of Images per field/camera_height combination\n",
    "\n",
    "qdf = full_df[full_df['crop_name'].isin(['COTTON', 'SOYBEANS', 'CORN'])] # Filter out non-crop fields\n",
    "qdf=qdf[qdf['date_collected'] > '2020-06-14']\n",
    "\n",
    "fdf = qdf[qdf['grower'] != 'greenway coop'] # Filter Out Bradley Field Data From Arkansas \n",
    "qdf = qdf.groupby(['grower', 'farm', 'operating_field_name', 'camera_height']).count()\n",
    "compliant_fields = len(qdf[qdf['_id'] >= 200])\n",
    "print(f'There are {len(qdf)} total field/camera_height combinations, with an average of {(len(fdf)/len(qdf)):.2f} images per field/camera height combination')\n",
    "print(f'There are {compliant_fields} field/camera height combinations that meet the 200 image threshold, or {(compliant_fields/len(qdf))*100:.2f}% of all combinations')\n",
    "\n",
    "plt.figure(figsize=(12,8))\n",
    "plt.axvline(200, linestyle= '--', color='tomato', linewidth=4)\n",
    "plt.title('Number of Images per Field/Camera Height Combination')\n",
    "plt.legend(['200 Image Goal'])\n",
    "plt.hist(qdf['_id'], bins =50, color='forestgreen')\n",
    "plt.xlim(0,800)\n",
    "#plt.savefig('images_per_camera_height.png')\n",
    "plt.show()"
   ]
  }
 ],
 "metadata": {
  "kernelspec": {
   "display_name": "Python 3",
   "language": "python",
   "name": "python3"
  },
  "language_info": {
   "codemirror_mode": {
    "name": "ipython",
    "version": 3
   },
   "file_extension": ".py",
   "mimetype": "text/x-python",
   "name": "python",
   "nbconvert_exporter": "python",
   "pygments_lexer": "ipython3",
   "version": "3.6.9"
  }
 },
 "nbformat": 4,
 "nbformat_minor": 4
}
