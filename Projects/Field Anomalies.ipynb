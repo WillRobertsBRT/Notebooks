{
 "cells": [
  {
   "cell_type": "code",
   "execution_count": 1,
   "metadata": {},
   "outputs": [
    {
     "name": "stdout",
     "output_type": "stream",
     "text": [
      "Queried 283979 images in 103.60 s.\n"
     ]
    }
   ],
   "source": [
    "import ipywidgets as widgets\n",
    "import xdcm_dash_functions as f\n",
    "from matplotlib import rcParams\n",
    "from datetime import datetime\n",
    "\n",
    "%load_ext autoreload\n",
    "%autoreload 2\n",
    "%matplotlib inline\n",
    "\n",
    "from xdcm_dash_functions import *\n",
    "\n",
    "\"\"\"\n",
    "Colorization and visualization utilities.\n",
    "\"\"\"\n",
    "\n",
    "import numpy as np\n",
    "import skimage.transform as skt\n",
    "\n",
    "#from brtlearn.shared import config\n",
    "PIX_DATA_CLASS_DIRT = 0\n",
    "PIX_DATA_CLASS_WEED = 1\n",
    "PIX_DATA_CLASS_CROP = 2\n",
    "\n",
    "# filter out images that are not NRG (e.g no RGB images), robots that are not DCMS and images with no crop label. \n",
    "start = datetime(2020, 3,7)\n",
    "\n",
    "# filter images by robot_name, image type, crop, etc\n",
    "filters = {\"artifacts.kind\": \"nrg\", \"crop_name\": {\"$ne\": None}, 'robot_name':{\"$in\":['DCM-MANATEE', 'DCM-WALRUS', 'DCM-SEAL', 'DCM-OTTER', 'DCM-PORPOISE', 'DCM-DOLPHIN']}}\n",
    "full_df, elapsed_time = f.get_shasta_data(filters =filters, start=start)\n",
    "full_df['date_collected'] = pd.to_datetime(full_df['collected_on'].dt.date)\n",
    "print(f\"Queried {len(full_df)} images in {elapsed_time:.2f} s.\")"
   ]
  },
  {
   "cell_type": "code",
   "execution_count": 37,
   "metadata": {},
   "outputs": [
    {
     "name": "stdout",
     "output_type": "stream",
     "text": [
      "0.10199587542381768\n",
      "0.8980041245761823\n"
     ]
    }
   ],
   "source": [
    "# What proportion of our data is from machines and what is from DCMs?\n",
    "\n",
    "qdf =full_df.copy()\n",
    "qdf = qdf[qdf['crop_name']=='SOYBEANS']\n",
    "mach = qdf[qdf['robot_name'].isin(['SHASTA-FB-BRADLEY', 'SHASTA-FB-PALADIN', 'ATM-DUCKDUCK', 'ATM-GOOSE', 'BLACKBIRD'])]\n",
    "dcm =  qdf[qdf['robot_name'].isin(['DCM-MANATEE', 'DCM-WALRUS', 'DCM-SEAL', 'DCM-OTTER', 'DCM-PORPOISE', 'DCM-DOLPHIN'])]\n",
    "\n",
    "tot = len(mach[mach['has_human_annotation']==True]) + len(dcm[dcm['has_human_annotation']==True])\n",
    "print(len(mach[mach['has_human_annotation']==True])/tot) # 2.4% of machine data has been annotated\n",
    "print(len(dcm[dcm['has_human_annotation']==True])/tot) # 15.3% of dcm data has been annotated"
   ]
  },
  {
   "cell_type": "code",
   "execution_count": 2,
   "metadata": {},
   "outputs": [],
   "source": [
    "# Grab list of unique operating_field_names\n",
    "\n",
    "fields = full_df.operating_field_name.unique()\n"
   ]
  },
  {
   "cell_type": "code",
   "execution_count": null,
   "metadata": {},
   "outputs": [],
   "source": [
    "# parameters the same field should not have:\n",
    "\n",
    "# different crop\n",
    "# different date\n",
    "# different grower\n",
    "# different farm\n",
    "# different robot_name\n",
    "# wide geographic area (distance between points>threshold)\n",
    "# less or more than 3 camera heights in field\n",
    "# field name closely matches another field name in the same geographic area\n",
    "# \n",
    "\n"
   ]
  },
  {
   "cell_type": "code",
   "execution_count": 17,
   "metadata": {},
   "outputs": [
    {
     "name": "stdout",
     "output_type": "stream",
     "text": [
      "['parking lot', '9', '1', 'barn', 'bordo nuevo', 'jkhg', 'cementary', 'lost john north', 'loading docks', 'kjh', 'river field', 'JDTIC', '23', '7', 'west', 'South', '2', 'East', 'North', 'West', '10', 'Home', '60', 'leathers west', 'lkjh']\n",
      "there are 25 fields with more than one date\n"
     ]
    }
   ],
   "source": [
    "# Identify the fields with 2 or more crop_names\n",
    "\n",
    "qdf = full_df.copy()\n",
    "\n",
    "multiple_dates = []\n",
    "\n",
    "for f in fields:\n",
    "    of = qdf[qdf['operating_field_name']==f]\n",
    "    if len(of.date_collected.unique()) >1:\n",
    "        multiple_dates.append(f)\n",
    "print(multiple_crops)\n",
    "print(f'there are {len(multiple_dates)} fields with more than one date')"
   ]
  },
  {
   "cell_type": "code",
   "execution_count": 18,
   "metadata": {},
   "outputs": [
    {
     "name": "stdout",
     "output_type": "stream",
     "text": [
      "446 images from this field have been labeled.\n",
      "There were 1582 images collected from the 9 field.\n",
      "parking lot\n",
      "[numpy.datetime64('2020-03-24T00:00:00.000000000'), 30.64649651473682, -96.30231331684212]\n",
      "[numpy.datetime64('2020-03-25T00:00:00.000000000'), 30.884954363829774, -96.66929634858157]\n",
      "[numpy.datetime64('2020-04-08T00:00:00.000000000'), 30.633122056140337, -96.32643377017546]\n",
      "9\n",
      "[numpy.datetime64('2020-03-25T00:00:00.000000000'), 30.899585775343805, -96.66793961786901]\n",
      "[numpy.datetime64('2020-06-20T00:00:00.000000000'), 36.67644803930822, -89.7493543109935]\n",
      "1\n",
      "[numpy.datetime64('2020-04-08T00:00:00.000000000'), 30.90338599219857, -96.68039328156031]\n",
      "[numpy.datetime64('2020-05-31T00:00:00.000000000'), 33.61705810103674, -90.67006300297021]\n",
      "[numpy.datetime64('2020-06-08T00:00:00.000000000'), 42.397035306761495, -96.60472417710184]\n",
      "[numpy.datetime64('2020-06-28T00:00:00.000000000'), 35.09085196917682, -78.47751703461472]\n",
      "barn\n",
      "[numpy.datetime64('2020-04-01T00:00:00.000000000'), 26.44844864217026, -97.63383368180261]\n",
      "[numpy.datetime64('2020-06-25T00:00:00.000000000'), 32.39237764398139, -86.68698081630627]\n",
      "bordo nuevo\n",
      "[numpy.datetime64('2020-04-01T00:00:00.000000000'), 27.51615551174087, -97.79459888023018]\n",
      "[numpy.datetime64('2020-03-31T00:00:00.000000000'), 27.50878817769057, -97.78751551922353]\n",
      "jkhg\n",
      "[numpy.datetime64('2020-04-30T00:00:00.000000000'), 30.917131423950195, -96.70657348632812]\n",
      "[numpy.datetime64('2020-05-08T00:00:00.000000000'), 39.735740661621094, -121.85171508789062]\n",
      "cementary\n",
      "[numpy.datetime64('2020-05-07T00:00:00.000000000'), 35.50778091430664, -91.23167065655744]\n",
      "[numpy.datetime64('2020-05-11T00:00:00.000000000'), 35.50828984326655, -91.23147179631904]\n",
      "lost john north\n",
      "[numpy.datetime64('2020-05-06T00:00:00.000000000'), 35.6469958768346, -90.21683773394277]\n",
      "[numpy.datetime64('2020-05-21T00:00:00.000000000'), 35.64653024059987, -90.2165811103687]\n",
      "loading docks\n",
      "[numpy.datetime64('2020-05-07T00:00:00.000000000'), 35.40475460399281, -91.25630593733354]\n",
      "[numpy.datetime64('2020-05-11T00:00:00.000000000'), 35.39566840437467, -91.25222733981145]\n",
      "kjh\n",
      "[numpy.datetime64('2020-04-28T00:00:00.000000000'), 0.0, 0.0]\n",
      "[numpy.datetime64('2020-05-09T00:00:00.000000000'), 24.922331253687542, -81.35754617055257]\n",
      "river field\n",
      "[numpy.datetime64('2020-05-13T00:00:00.000000000'), 35.64987897420026, -90.2263041978937]\n",
      "[numpy.datetime64('2020-05-21T00:00:00.000000000'), 35.649882802141555, -90.22568091648988]\n",
      "JDTIC\n",
      "[numpy.datetime64('2020-05-14T00:00:00.000000000'), 41.99012401313112, -93.62764839038515]\n",
      "[numpy.datetime64('2020-06-17T00:00:00.000000000'), 41.99169071814966, -93.62470567622893]\n",
      "23\n",
      "[numpy.datetime64('2020-05-14T00:00:00.000000000'), 30.009959312368785, -83.72530670767544]\n",
      "[numpy.datetime64('2020-06-22T00:00:00.000000000'), 36.638879670569644, -89.78439418275153]\n",
      "7\n",
      "[numpy.datetime64('2020-05-14T00:00:00.000000000'), 32.984755959621694, -91.6747454118359]\n",
      "[numpy.datetime64('2020-05-29T00:00:00.000000000'), 33.07039163823713, -90.59177485683509]\n",
      "west\n",
      "[numpy.datetime64('2020-05-24T00:00:00.000000000'), 31.395792214981633, -83.88425599725753]\n",
      "[numpy.datetime64('2020-05-27T00:00:00.000000000'), 32.16699764056084, -83.45039621988933]\n",
      "South\n",
      "[numpy.datetime64('2020-05-28T00:00:00.000000000'), 31.757974593107367, -82.6622110792428]\n",
      "[numpy.datetime64('2020-06-04T00:00:00.000000000'), 35.756444908187774, -89.06444629509292]\n",
      "[numpy.datetime64('2020-06-15T00:00:00.000000000'), 43.70200274658203, -91.29238504028321]\n",
      "[numpy.datetime64('2020-06-26T00:00:00.000000000'), 46.90523358847064, -98.10566583025012]\n",
      "[numpy.datetime64('2020-06-29T00:00:00.000000000'), 43.71422591390489, -98.70819352548334]\n",
      "[numpy.datetime64('2020-06-25T00:00:00.000000000'), 45.186172788235254, -99.4675109110165]\n",
      "2\n",
      "[numpy.datetime64('2020-05-27T00:00:00.000000000'), 36.64884993294689, -89.8290160704996]\n",
      "[numpy.datetime64('2020-06-28T00:00:00.000000000'), 35.108097090471645, -78.47302257338252]\n",
      "East\n",
      "[numpy.datetime64('2020-05-27T00:00:00.000000000'), 32.1831309296364, -83.43863944120186]\n",
      "[numpy.datetime64('2020-05-29T00:00:00.000000000'), 42.36205900283087, -91.63665390014648]\n",
      "[numpy.datetime64('2020-05-24T00:00:00.000000000'), 31.43777337366221, -83.6533659850659]\n",
      "[numpy.datetime64('2020-06-08T00:00:00.000000000'), 40.38295069689999, -84.06266079581744]\n",
      "[numpy.datetime64('2020-06-17T00:00:00.000000000'), 43.74914142844544, -98.1041041355507]\n",
      "[numpy.datetime64('2020-06-14T00:00:00.000000000'), 43.572432959952, -91.75347076974263]\n",
      "[numpy.datetime64('2020-06-15T00:00:00.000000000'), 43.70376809772692, -91.29384705392938]\n",
      "[numpy.datetime64('2020-06-26T00:00:00.000000000'), 46.87406940498428, -98.08191960703634]\n",
      "[numpy.datetime64('2020-06-25T00:00:00.000000000'), 46.022768452856496, -98.77026034095431]\n",
      "North\n",
      "[numpy.datetime64('2020-05-28T00:00:00.000000000'), 31.693471343429, -82.81549190945096]\n",
      "[numpy.datetime64('2020-06-02T00:00:00.000000000'), 43.06914727130339, -95.64087529728069]\n",
      "[numpy.datetime64('2020-05-24T00:00:00.000000000'), 31.453901394553807, -83.66131786678149]\n",
      "[numpy.datetime64('2020-06-04T00:00:00.000000000'), 35.75590328640408, -89.07014587779103]\n",
      "[numpy.datetime64('2020-06-08T00:00:00.000000000'), 40.394494338421644, -84.03743069437975]\n",
      "[numpy.datetime64('2020-06-15T00:00:00.000000000'), 43.705999688257144, -91.292319961741]\n",
      "[numpy.datetime64('2020-06-26T00:00:00.000000000'), 46.96634991724688, -98.1443169385867]\n",
      "[numpy.datetime64('2020-06-25T00:00:00.000000000'), 45.209976321723985, -99.47356649432007]\n",
      "West\n",
      "[numpy.datetime64('2020-05-29T00:00:00.000000000'), 42.367003810298336, -91.63798921602266]\n",
      "[numpy.datetime64('2020-05-27T00:00:00.000000000'), 32.21339606559998, -83.45996015012476]\n",
      "[numpy.datetime64('2020-06-14T00:00:00.000000000'), 43.57030165290327, -91.76925997139604]\n",
      "[numpy.datetime64('2020-06-26T00:00:00.000000000'), 46.71571186965074, -98.26399871081841]\n",
      "[numpy.datetime64('2020-06-25T00:00:00.000000000'), 46.02496595492308, -98.80946030013862]\n",
      "[numpy.datetime64('2020-07-07T00:00:00.000000000'), 41.762098189226286, -93.65495062400036]\n",
      "[numpy.datetime64('2020-06-15T00:00:00.000000000'), 43.70439964428282, -91.29614592435067]\n",
      "10\n",
      "[numpy.datetime64('2020-05-29T00:00:00.000000000'), 33.08123162009499, -90.57756472500888]\n",
      "[numpy.datetime64('2020-05-31T00:00:00.000000000'), 33.6615372147671, -90.72903965794762]\n",
      "Home\n",
      "[numpy.datetime64('2020-06-02T00:00:00.000000000'), 43.05588925939028, -95.6502539706068]\n",
      "[numpy.datetime64('2020-06-22T00:00:00.000000000'), 43.57285907713033, -94.73933604612189]\n",
      "60\n",
      "[numpy.datetime64('2020-05-26T00:00:00.000000000'), 35.87275314331055, -90.19582653989886]\n",
      "[numpy.datetime64('2020-07-01T00:00:00.000000000'), 35.06990560287084, -77.59882939265324]\n",
      "leathers west\n",
      "[numpy.datetime64('2020-06-05T00:00:00.000000000'), 38.58654529933213, -87.6845874411049]\n",
      "[numpy.datetime64('2020-06-06T00:00:00.000000000'), 38.6323487768869, -87.54848899350146]\n",
      "lkjh\n",
      "[numpy.datetime64('2020-04-28T00:00:00.000000000'), 0.0, 0.0]\n",
      "[numpy.datetime64('2020-04-30T00:00:00.000000000'), 37.38352368329022, -122.03629900958087]\n"
     ]
    }
   ],
   "source": [
    "qdf = full_df.copy()\n",
    "ofn = '9'\n",
    "grower = 'arva intelligence'\n",
    "op = qdf[(qdf['operating_field_name']== ofn)]\n",
    "gr = qdf[qdf['grower']==grower]\n",
    "#op.to_csv('op.csv')\n",
    "labeled = op[op['has_human_annotation']==True]\n",
    "#print(op.groupby('has_human_annotation').count())\n",
    "print(f'{len(labeled)} images from this field have been labeled.')\n",
    "print(f'There were {len(op)} images collected from the {ofn} field.')\n",
    "#print(op.experiment_id.unique())\n",
    "#print(op.date_collected.unique())\n",
    "#print(op.robot_name.unique())\n",
    "\n",
    "\n",
    "\n",
    "for m in multiple_dates:\n",
    "    op = qdf[(qdf['operating_field_name']== m)]\n",
    "    dates =op.date_collected.unique()\n",
    "    print(m)\n",
    "    # Determine if the fields are the same geographic area\n",
    "    for d in dates:\n",
    "        fn = op[op['date_collected']==d]\n",
    "        features = [d.get('coordinates') for d in fn.gnss] # Extract GPS coordinates\n",
    "        lat = [features[i][1] for i in range(len(features))]\n",
    "        lng = [features[i][0] for i in range(len(features))]\n",
    "        print([d, np.mean(lat), np.mean(lng)])\n",
    "\n"
   ]
  },
  {
   "cell_type": "code",
   "execution_count": 27,
   "metadata": {},
   "outputs": [
    {
     "name": "stdout",
     "output_type": "stream",
     "text": [
      "885 images from this field have been labeled.\n",
      "There were 2042 images collected from the JDTIC field.\n",
      "['Thur 5/14/2020' 'thurs 5/14/2020']\n",
      "['JDTIC']\n",
      "['SOYBEANS']\n",
      "2020-05-14T00:00:00.000000000\n",
      "['Wed 6/17 afternoon']\n",
      "['Ryan Bergman']\n",
      "['SOYBEANS']\n",
      "2020-06-17T00:00:00.000000000\n"
     ]
    }
   ],
   "source": [
    "qdf = full_df.copy()\n",
    "ofn = 'JDTIC'\n",
    "op = qdf[(qdf['operating_field_name']== ofn)]\n",
    "labeled = op[op['has_human_annotation']==True]\n",
    "print(f'{len(labeled)} images from this field have been labeled.')\n",
    "print(f'There were {len(op)} images collected from the {ofn} field.')\n",
    "#print(op.experiment_id.unique())\n",
    "for d in op.date_collected.unique():\n",
    "    fn = op[op['date_collected']==d]\n",
    "    fn = fn[fn['crop_name']=='SOYBEANS']\n",
    "    print(fn.experiment_id.unique())\n",
    "    print(fn.grower.unique())\n",
    "    print(fn.crop_name.unique())\n",
    "    print(d)\n",
    "\n",
    "#print(op.robot_name.unique())\n",
    "\n"
   ]
  },
  {
   "cell_type": "code",
   "execution_count": 4,
   "metadata": {},
   "outputs": [
    {
     "name": "stdout",
     "output_type": "stream",
     "text": [
      "there are 25 fields with more than one date\n",
      "['parking lot', '9', '1', 'barn', 'bordo nuevo', 'jkhg', 'cementary', 'lost john north', 'loading docks', 'kjh', 'river field', 'JDTIC', '23', '7', 'west', 'South', '2', 'East', 'North', 'West', '10', 'Home', '60', 'leathers west', 'lkjh']\n"
     ]
    }
   ],
   "source": [
    "qdf = full_df.copy()\n",
    "\n",
    "multiple_dates = []\n",
    "\n",
    "for f in fields:\n",
    "    of = qdf[qdf['operating_field_name']==f]\n",
    "    if len(of.date_collected.unique()) >1:\n",
    "        multiple_dates.append(f)\n",
    "print(f'there are {len(multiple_dates)} fields with more than one date')\n",
    "print(multiple_dates)"
   ]
  },
  {
   "cell_type": "code",
   "execution_count": 5,
   "metadata": {},
   "outputs": [
    {
     "name": "stdout",
     "output_type": "stream",
     "text": [
      "there are 65 fields with more than one experiment_id\n",
      "['parking lot', '9', 'goodland 9', '1', '1761', '3200w', 'trailer house', 'lott front', 'arney', 'cr 360', 'barn', 'tree', 'middle furgeson', 'goodland 1', 'bordo nuevo', 'sandpatch', 'big field', 'kemp', 'red barn', 'oil field', 'webber', 'lottfront', '156s', 'barton west1', 'anzeda', 'jkhg', 'cementary', 'lost john north', 'loading docks', 'kjh', 'Kixmiller', 'luknow', 'river field', 'JDTIC', 'bhind pivot northend', '23', 'Bird Dogs 1', '7', '121', 'Boies Bend North', 'west', 'South', '2', 'East', 'South 200', 'North', 'West', '10', 'Dave Creek', 'C15', 'Vanderpol', 'Home', '60', 'mv1', 'kljh', 'North of House', 'snow drip', 'West clarke', 'Agronomy Strip Trials', 'leathers west', 'Federsons', 'South Inlo', 'Rock Garden', 'Kirtley east side', 'Deere demo field 6/1']\n"
     ]
    }
   ],
   "source": [
    "# Identify the same fields with 2 or more experiment_ids\n",
    "qdf = full_df.copy()\n",
    "\n",
    "multiple_growers = []\n",
    "\n",
    "for f in fields:\n",
    "    of = qdf[qdf['operating_field_name']==f]\n",
    "    if len(of.experiment_id.unique()) >1:\n",
    "        multiple_growers.append(f)\n",
    "print(f'there are {len(multiple_growers)} fields with more than one experiment_id')\n",
    "print(multiple_growers)"
   ]
  },
  {
   "cell_type": "code",
   "execution_count": 25,
   "metadata": {},
   "outputs": [
    {
     "name": "stdout",
     "output_type": "stream",
     "text": [
      "there are 20 fields with more than one farm\n",
      "['parking lot', '9', '1', 'trailer house', 'arney', 'cementary', 'lost john north', 'loading docks', 'river field', 'JDTIC', '7', 'west', 'South', 'East', 'North', 'West', '10', 'Home', 'snow drip', 'leathers west']\n"
     ]
    }
   ],
   "source": [
    "qdf = full_df.copy()\n",
    "\n",
    "multiple_farms = []\n",
    "\n",
    "for f in fields:\n",
    "    of = qdf[qdf['operating_field_name']==f]\n",
    "    if len(of.farm.unique()) >1:\n",
    "        multiple_farms.append(f)\n",
    "print(f'there are {len(multiple_farms)} fields with more than one farm')\n",
    "print(multiple_farms)"
   ]
  },
  {
   "cell_type": "code",
   "execution_count": 16,
   "metadata": {},
   "outputs": [
    {
     "name": "stdout",
     "output_type": "stream",
     "text": [
      "there are 12 fields with more than one robot_name\n",
      "['9', 'goodland 9', '1', 'trailer house', 'arney', 'jkhg', 'kjh', 'JDTIC', 'East', 'North', 'West', 'Home']\n"
     ]
    }
   ],
   "source": [
    "qdf = full_df.copy()\n",
    "\n",
    "multiple_robots = []\n",
    "\n",
    "for f in fields:\n",
    "    of = qdf[qdf['operating_field_name']==f]\n",
    "    if len(of.robot_name.unique()) >1:\n",
    "        multiple_robots.append(f)\n",
    "print(f'there are {len(multiple_robots)} fields with more than one robot_name')\n",
    "print(multiple_robots)"
   ]
  },
  {
   "cell_type": "code",
   "execution_count": 11,
   "metadata": {},
   "outputs": [
    {
     "name": "stdout",
     "output_type": "stream",
     "text": [
      "there are 65 fields with more than one experiment_id\n",
      "['parking lot', '9', 'goodland 9', '1', '1761', '3200w', 'trailer house', 'lott front', 'arney', 'cr 360', 'barn', 'tree', 'middle furgeson', 'goodland 1', 'bordo nuevo', 'sandpatch', 'big field', 'kemp', 'red barn', 'oil field', 'webber', 'lottfront', '156s', 'barton west1', 'anzeda', 'jkhg', 'cementary', 'lost john north', 'loading docks', 'kjh', 'Kixmiller', 'luknow', 'river field', 'JDTIC', 'bhind pivot northend', '23', 'Bird Dogs 1', '7', '121', 'Boies Bend North', 'west', 'South', '2', 'East', 'South 200', 'North', 'West', '10', 'Dave Creek', 'C15', 'Vanderpol', 'Home', '60', 'mv1', 'kljh', 'North of House', 'snow drip', 'West clarke', 'Agronomy Strip Trials', 'leathers west', 'Federsons', 'South Inlo', 'Rock Garden', 'Kirtley east side', 'Deere demo field 6/1']\n"
     ]
    }
   ],
   "source": [
    "qdf = full_df.copy()\n",
    "\n",
    "multiple_ids = []\n",
    "\n",
    "for f in fields:\n",
    "    of = qdf[qdf['operating_field_name']==f]\n",
    "    if len(of.experiment_id.unique()) >1:\n",
    "        multiple_ids.append(f)\n",
    "print(f'there are {len(multiple_ids)} fields with more than one experiment_id')\n",
    "print(multiple_ids)"
   ]
  },
  {
   "cell_type": "code",
   "execution_count": 23,
   "metadata": {},
   "outputs": [
    {
     "name": "stdout",
     "output_type": "stream",
     "text": [
      "14\n"
     ]
    }
   ],
   "source": [
    "mr = set(multiple_robots)\n",
    "mg = set(multiple_growers)\n",
    "mf = set(multiple_farms)\n",
    "md =set(multiple_dates)\n",
    "\n",
    "problem_fields = md.intersection(mg)\n",
    "print(len(problem_fields))"
   ]
  },
  {
   "cell_type": "code",
   "execution_count": 29,
   "metadata": {},
   "outputs": [
    {
     "name": "stdout",
     "output_type": "stream",
     "text": [
      "['holthouse' 'senter island']\n",
      "[datetime.date(2020, 5, 6) datetime.date(2020, 5, 21)]\n",
      "894\n"
     ]
    }
   ],
   "source": [
    "qdf = full_df.copy()\n",
    "\n",
    "farm = 'Fincher Farms'\n",
    "ofn = 'lost john north'\n",
    "grower = 'Jeff Buyck'\n",
    "\n",
    "op = qdf[(qdf['operating_field_name']== ofn)]\n",
    "gr = qdf[qdf['grower']==grower]\n",
    "fr = qdf[qdf['farm']==farm]\n",
    "\n",
    "#print(f'{len(labeled)} images from this field have been labeled.')\n",
    "#print(f'There were {len(op)} images collected from the {ofn} field.')\n",
    "#print(op.experiment_id.unique())\n",
    "#print(op.camera_height.unique())\n",
    "\n",
    "print(op.farm.unique())\n",
    "print(op.collected_on.dt.date.unique())\n",
    "print(len(op))"
   ]
  },
  {
   "cell_type": "code",
   "execution_count": null,
   "metadata": {},
   "outputs": [],
   "source": []
  }
 ],
 "metadata": {
  "kernelspec": {
   "display_name": "Python 3",
   "language": "python",
   "name": "python3"
  },
  "language_info": {
   "codemirror_mode": {
    "name": "ipython",
    "version": 3
   },
   "file_extension": ".py",
   "mimetype": "text/x-python",
   "name": "python",
   "nbconvert_exporter": "python",
   "pygments_lexer": "ipython3",
   "version": "3.6.9"
  }
 },
 "nbformat": 4,
 "nbformat_minor": 4
}
