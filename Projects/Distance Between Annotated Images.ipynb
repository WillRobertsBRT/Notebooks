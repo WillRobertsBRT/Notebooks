{
 "cells": [
  {
   "cell_type": "markdown",
   "metadata": {},
   "source": [
    "## Determine the Distance and % Overlap Between Annotated Images\n"
   ]
  },
  {
   "cell_type": "code",
   "execution_count": 34,
   "metadata": {},
   "outputs": [
    {
     "name": "stderr",
     "output_type": "stream",
     "text": [
      "\u001b[31;1m2020-07-30 10:30:30,104 - APIRequestor - ERROR - API Authentication failed. rcode: 401, message: b'{\"message\":\"Invalid OAuth access token\"}\\n'\n",
      "\u001b[0m\u001b[34;1m2020-07-30 10:30:30,105 - APIRequestor - INFO - API access token expired. Refreshing tokens now.\n",
      "\u001b[0m"
     ]
    },
    {
     "name": "stdout",
     "output_type": "stream",
     "text": [
      "Queried 94359 images in 156.86 s.\n"
     ]
    }
   ],
   "source": [
    "# Import libraries and query Aletheia for all annotated images\n",
    "\n",
    "import time\n",
    "import numpy as np\n",
    "import pandas as pd\n",
    "from datetime import datetime as dt\n",
    "from brtdevkit.core.db import DBConnector, DatetimeFilter\n",
    "from matplotlib import pyplot as plt, rcParams\n",
    "from geopy import distance\n",
    "\n",
    "def get_shasta_data(filters={}, start=None, end=None, limit=None):\n",
    "    \"\"\"\n",
    "    Query relevant Shasta data for calculations. Written by Andrei P.\n",
    "    \"\"\"\n",
    "    start_time = time.time()\n",
    "    connector = DBConnector()\n",
    "    img_filters = {'project_name': 'shasta', **filters}\n",
    "    if start is not None or end is not None:\n",
    "        img_filters = [img_filters, DatetimeFilter(key=\"collected_on\", start=start, end=end)]\n",
    "    df = connector.get_documents_df('image', img_filters, limit=limit)\n",
    "    elapsed_time = time.time() - start_time\n",
    "    return df, elapsed_time\n",
    "\n",
    "# Convert between meters and inches\n",
    "def in2m(in_val): # inches to meters\n",
    "    return in_val * 0.0254\n",
    "\n",
    "def m2in(m_val): # meters to inches\n",
    "    return m_val / 0.0254\n",
    "\n",
    "# Set start date for query\n",
    "start = dt(2020, 3,7)\n",
    "\n",
    "# DCMs\n",
    "dcms = ['DCM-MANATEE', 'DCM-WALRUS', 'DCM-SEAL', 'DCM-OTTER', 'DCM-PORPOISE', 'DCM-DOLPHIN']\n",
    "#'robot_name':{\"$in\":dcms}\n",
    "# Select all annotated images past the start date\n",
    "filters = {\"artifacts.kind\": \"nrg\", \n",
    "           \"crop_name\": {\"$in\": ['CORN', 'COTTON', 'SOYBEANS']}, \n",
    "           \"has_human_annotation\": True, \n",
    "           \n",
    "          }\n",
    "\n",
    "full_df, elapsed_time = get_shasta_data(filters=filters, start=start)\n",
    "full_df['date_collected'] = pd.to_datetime(full_df['collected_on'].dt.date)\n",
    "print(f\"Queried {len(full_df)} images in {elapsed_time:.2f} s.\")"
   ]
  },
  {
   "cell_type": "code",
   "execution_count": 35,
   "metadata": {},
   "outputs": [
    {
     "name": "stdout",
     "output_type": "stream",
     "text": [
      "camera_height        1.524\n",
      "row_spacing      INCHES_30\n",
      "Name: 5ee3bcc34d2389d34d064717, dtype: object\n",
      "0.8052782837572123\n",
      "5ee3bcc34d2389d34d064717\n",
      "5ee3bcc34d2389d34d064721\n"
     ]
    }
   ],
   "source": [
    "# Look at two example images\n",
    "\n",
    "qdf = full_df.copy()\n",
    "qdf.sort_values('collected_on', ascending=False)\n",
    "l =61001\n",
    "\n",
    "img1 = qdf.iloc[l]\n",
    "img2 = qdf.iloc[l+1]\n",
    "\n",
    "first_lat_long = [img1['latitude'], img1['longitude']]\n",
    "last_lat_long = [img2['latitude'], img2['longitude']]\n",
    "dist_travelled = distance.distance(first_lat_long, last_lat_long).meters\n",
    "\n",
    "print((qdf.iloc[l][['camera_height','row_spacing']]))\n",
    "print(dist_travelled)\n",
    "print(qdf.iloc[l]['_id'])\n",
    "print(qdf.iloc[l+1]['_id'])"
   ]
  },
  {
   "cell_type": "code",
   "execution_count": 38,
   "metadata": {},
   "outputs": [
    {
     "name": "stdout",
     "output_type": "stream",
     "text": [
      "0.00% of images have NaN camera_height\n"
     ]
    },
    {
     "data": {
      "text/html": [
       "<div>\n",
       "<style scoped>\n",
       "    .dataframe tbody tr th:only-of-type {\n",
       "        vertical-align: middle;\n",
       "    }\n",
       "\n",
       "    .dataframe tbody tr th {\n",
       "        vertical-align: top;\n",
       "    }\n",
       "\n",
       "    .dataframe thead th {\n",
       "        text-align: right;\n",
       "    }\n",
       "</style>\n",
       "<table border=\"1\" class=\"dataframe\">\n",
       "  <thead>\n",
       "    <tr style=\"text-align: right;\">\n",
       "      <th></th>\n",
       "      <th>dcm_name</th>\n",
       "      <th>week</th>\n",
       "      <th>camera_height</th>\n",
       "      <th>operating_field_name</th>\n",
       "      <th>n_images_collected</th>\n",
       "      <th>distance_covered</th>\n",
       "    </tr>\n",
       "  </thead>\n",
       "  <tbody>\n",
       "    <tr>\n",
       "      <th>0</th>\n",
       "      <td>DCM-DOLPHIN</td>\n",
       "      <td>13</td>\n",
       "      <td>1.42</td>\n",
       "      <td>barton west 1</td>\n",
       "      <td>283</td>\n",
       "      <td>0.966575</td>\n",
       "    </tr>\n",
       "    <tr>\n",
       "      <th>1</th>\n",
       "      <td>DCM-DOLPHIN</td>\n",
       "      <td>13</td>\n",
       "      <td>1.42</td>\n",
       "      <td>barton west 1</td>\n",
       "      <td>283</td>\n",
       "      <td>1.116820</td>\n",
       "    </tr>\n",
       "    <tr>\n",
       "      <th>2</th>\n",
       "      <td>DCM-DOLPHIN</td>\n",
       "      <td>13</td>\n",
       "      <td>1.42</td>\n",
       "      <td>barton west 1</td>\n",
       "      <td>283</td>\n",
       "      <td>0.966575</td>\n",
       "    </tr>\n",
       "    <tr>\n",
       "      <th>3</th>\n",
       "      <td>DCM-DOLPHIN</td>\n",
       "      <td>13</td>\n",
       "      <td>1.42</td>\n",
       "      <td>barton west 1</td>\n",
       "      <td>283</td>\n",
       "      <td>0.966575</td>\n",
       "    </tr>\n",
       "    <tr>\n",
       "      <th>4</th>\n",
       "      <td>DCM-DOLPHIN</td>\n",
       "      <td>13</td>\n",
       "      <td>1.42</td>\n",
       "      <td>barton west 1</td>\n",
       "      <td>283</td>\n",
       "      <td>0.634392</td>\n",
       "    </tr>\n",
       "  </tbody>\n",
       "</table>\n",
       "</div>"
      ],
      "text/plain": [
       "      dcm_name  week  camera_height operating_field_name  n_images_collected  \\\n",
       "0  DCM-DOLPHIN    13           1.42        barton west 1                 283   \n",
       "1  DCM-DOLPHIN    13           1.42        barton west 1                 283   \n",
       "2  DCM-DOLPHIN    13           1.42        barton west 1                 283   \n",
       "3  DCM-DOLPHIN    13           1.42        barton west 1                 283   \n",
       "4  DCM-DOLPHIN    13           1.42        barton west 1                 283   \n",
       "\n",
       "   distance_covered  \n",
       "0          0.966575  \n",
       "1          1.116820  \n",
       "2          0.966575  \n",
       "3          0.966575  \n",
       "4          0.634392  "
      ]
     },
     "execution_count": 38,
     "metadata": {},
     "output_type": "execute_result"
    }
   ],
   "source": [
    "# Create dataframe of relevant features for all annotated images\n",
    "\n",
    "qdf = full_df.copy()\n",
    "\n",
    "# Set Date Filter if Desired\n",
    "qdf = qdf[qdf['date_collected'] > '2020-03-07']\n",
    "\n",
    "# This could probably be vectorized better to speed it up a bit\n",
    "ds = []\n",
    "ns = []\n",
    "wk = []\n",
    "dcms = []\n",
    "cht = []\n",
    "fields = []\n",
    "dc = qdf['robot_name'].unique()\n",
    "\n",
    "\n",
    "for d in dc:\n",
    "    ddf = qdf[qdf['robot_name']==d]\n",
    "    for o in ddf['operating_field_name'].unique():\n",
    "        op = ddf[ddf['operating_field_name']== o]\n",
    "        op = op.sort_values('collected_on')\n",
    "        features = [d.get('coordinates') for d in op.gnss]\n",
    "        dst = 0\n",
    "        for n in range(1,len(op)-1):\n",
    "            first_lat_long = [features[n-1][1], features[n-1][0]]\n",
    "            last_lat_long = [features[n][1], features[n][0]]\n",
    "            dist_travelled = distance.distance(first_lat_long, last_lat_long).meters\n",
    "            if (dist_travelled < 3):\n",
    "                ds.append(dist_travelled)\n",
    "                wk.append(op.date_collected[0].week)\n",
    "                cht.append(op.camera_height[n])\n",
    "                fields.append(o)\n",
    "                dcms.append(d)\n",
    "                ns.append(len(op))\n",
    "\n",
    "annotation_distances = pd.DataFrame({'dcm_name':dcms, 'week':wk, 'camera_height':cht, 'operating_field_name':fields, 'n_images_collected':ns, 'distance_covered':ds})\n",
    "print(f'{((len(annotation_distances[annotation_distances.camera_height.isna()])/len(annotation_distances))*100):.2f}% of images have NaN camera_height')\n",
    "annotation_distances.head()"
   ]
  },
  {
   "cell_type": "code",
   "execution_count": 39,
   "metadata": {},
   "outputs": [
    {
     "name": "stdout",
     "output_type": "stream",
     "text": [
      "The median distance between annotated images is 0.85 meters\n"
     ]
    },
    {
     "data": {
      "image/png": "[encoded data removed]",
      "text/plain": [
       "<Figure size 720x432 with 1 Axes>"
      ]
     },
     "metadata": {
      "needs_background": "light"
     },
     "output_type": "display_data"
    }
   ],
   "source": [
    "# Plot histogram of distance between annotated images\n",
    "\n",
    "med_dist = annotation_distances.distance_covered.median()\n",
    "print(f'The median distance between annotated images is {med_dist:.2f} meters')\n",
    "\n",
    "plt.figure(figsize=(10,6))\n",
    "plt.title('Histogram of Distance Between Annotated Images')\n",
    "plt.hist(annotation_distances['distance_covered'], bins=30)\n",
    "plt.xlabel('Meters Apart')\n",
    "plt.ylabel('Number of Annotated Images')\n",
    "plt.axvline(med_dist, linewidth=2, color = 'gold')\n",
    "plt.legend(['Median Distance'])\n",
    "plt.savefig('annotation_distances.png')\n",
    "plt.show()"
   ]
  },
  {
   "cell_type": "code",
   "execution_count": 17,
   "metadata": {},
   "outputs": [
    {
     "data": {
      "text/plain": [
       "1.2293750573735616"
      ]
     },
     "execution_count": 17,
     "metadata": {},
     "output_type": "execute_result"
    }
   ],
   "source": [
    "# Calculate distance seen in an image\n",
    "\n",
    "def calc_distance(z, theta, fov_v):\n",
    "    \"\"\"\n",
    "    Calculate the linear distance covered in an image.\n",
    "    \"\"\"\n",
    "    xmin = z * np.tan(theta - (fov_v / 2.0))\n",
    "    xmax = z * np.tan(theta + (fov_v / 2.0))\n",
    "    return xmin, xmax\n",
    "\n",
    "fov_v = np.radians(48)\n",
    "z = in2m(40)\n",
    "theta = np.radians(28)\n",
    "\n",
    "dist_covered = calc_distance(z, theta,fov_v)[1]-calc_distance(z, theta,fov_v)[0]\n",
    "dist_covered"
   ]
  },
  {
   "cell_type": "code",
   "execution_count": 42,
   "metadata": {},
   "outputs": [
    {
     "data": {
      "image/png": "[encoded data removed]",
      "text/plain": [
       "<Figure size 432x288 with 1 Axes>"
      ]
     },
     "metadata": {
      "needs_background": "light"
     },
     "output_type": "display_data"
    }
   ],
   "source": [
    "fovs = np.linspace(10, 90, 9)\n",
    "sizes = []\n",
    "for i in fovs:\n",
    "    z = in2m(40)\n",
    "    theta = np.radians(28)\n",
    "    dist_covered = calc_distance(z, theta,np.radians(i))[1]-calc_distance(z, theta,np.radians(i))[0]\n",
    "    sizes.append(dist_covered)\n",
    "plt.plot(fovs, sizes)\n",
    "plt.title('Relationship of FOV and Image Length at 40 Inch Camera Height')\n",
    "plt.xlabel('FOV')\n",
    "plt.ylabel('Image Length')\n",
    "plt.savefig('FOV.png')\n",
    "plt.show() "
   ]
  },
  {
   "cell_type": "code",
   "execution_count": 44,
   "metadata": {},
   "outputs": [
    {
     "name": "stdout",
     "output_type": "stream",
     "text": [
      "The mean image length is 1.513 meters\n"
     ]
    },
    {
     "data": {
      "image/png": "[encoded data removed]",
      "text/plain": [
       "<Figure size 576x432 with 1 Axes>"
      ]
     },
     "metadata": {
      "needs_background": "light"
     },
     "output_type": "display_data"
    },
    {
     "name": "stdout",
     "output_type": "stream",
     "text": [
      "Median image overlap is 33.5%\n",
      "36.24% of annotated images have less than 25% overlap\n",
      "16.18% of annotated images have 0% overlap\n"
     ]
    }
   ],
   "source": [
    "# Calculate length of ground covered in an image from camera height and fixed angles of camera\n",
    "\n",
    "fov_v = np.radians(45.7)\n",
    "theta = np.radians(28)\n",
    "\n",
    "annotation_distances['image_length'] = calc_distance((annotation_distances['camera_height']), theta,fov_v)[1]-calc_distance((annotation_distances['camera_height']), theta,fov_v)[0]\n",
    "print(f'The mean image length is {np.mean(annotation_distances.image_length):.3f} meters')\n",
    "\n",
    "# Remove the few NaNs and extreme outliers\n",
    "annotation_distances = annotation_distances[(annotation_distances.image_length >0)&(annotation_distances.image_length <3)]\n",
    "\n",
    "# Calculate % Overlap between images\n",
    "annotation_distances['overlap'] = ((annotation_distances['image_length']-annotation_distances['distance_covered'])/annotation_distances['image_length'])*100\n",
    "\n",
    "plt.figure(figsize=(8,6))\n",
    "plt.title('Histogram of % Overlap Betweeen Sequential Images')\n",
    "plt.hist(annotation_distances['overlap'], bins=30)\n",
    "plt.axvline(25, color='gold')\n",
    "plt.xlabel('% Overlap')\n",
    "plt.legend(['25% Overlap Cutoff'])\n",
    "plt.savefig('Overlap.png')\n",
    "plt.show()\n",
    "\n",
    "print(f'Median image overlap is {np.median(annotation_distances.overlap):.1f}%')\n",
    "print(f'{((len(annotation_distances[annotation_distances.overlap<=25])/len(annotation_distances))*100):.2f}% of annotated images have less than 25% overlap')\n",
    "print(f'{((len(annotation_distances[annotation_distances.overlap<=0])/len(annotation_distances))*100):.2f}% of annotated images have 0% overlap')"
   ]
  },
  {
   "cell_type": "code",
   "execution_count": 28,
   "metadata": {},
   "outputs": [
    {
     "data": {
      "text/html": [
       "<div>\n",
       "<style scoped>\n",
       "    .dataframe tbody tr th:only-of-type {\n",
       "        vertical-align: middle;\n",
       "    }\n",
       "\n",
       "    .dataframe tbody tr th {\n",
       "        vertical-align: top;\n",
       "    }\n",
       "\n",
       "    .dataframe thead th {\n",
       "        text-align: right;\n",
       "    }\n",
       "</style>\n",
       "<table border=\"1\" class=\"dataframe\">\n",
       "  <thead>\n",
       "    <tr style=\"text-align: right;\">\n",
       "      <th></th>\n",
       "      <th>distance_covered</th>\n",
       "      <th>overlap</th>\n",
       "    </tr>\n",
       "    <tr>\n",
       "      <th>dcm_name</th>\n",
       "      <th></th>\n",
       "      <th></th>\n",
       "    </tr>\n",
       "  </thead>\n",
       "  <tbody>\n",
       "    <tr>\n",
       "      <th>DCM-MANATEE</th>\n",
       "      <td>0.843023</td>\n",
       "      <td>40.066880</td>\n",
       "    </tr>\n",
       "    <tr>\n",
       "      <th>DCM-DOLPHIN</th>\n",
       "      <td>1.023553</td>\n",
       "      <td>34.315068</td>\n",
       "    </tr>\n",
       "    <tr>\n",
       "      <th>DCM-SEAL</th>\n",
       "      <td>1.076612</td>\n",
       "      <td>29.801382</td>\n",
       "    </tr>\n",
       "    <tr>\n",
       "      <th>DCM-WALRUS</th>\n",
       "      <td>1.200729</td>\n",
       "      <td>29.726308</td>\n",
       "    </tr>\n",
       "    <tr>\n",
       "      <th>DCM-OTTER</th>\n",
       "      <td>1.271039</td>\n",
       "      <td>24.552379</td>\n",
       "    </tr>\n",
       "  </tbody>\n",
       "</table>\n",
       "</div>"
      ],
      "text/plain": [
       "             distance_covered    overlap\n",
       "dcm_name                                \n",
       "DCM-MANATEE          0.843023  40.066880\n",
       "DCM-DOLPHIN          1.023553  34.315068\n",
       "DCM-SEAL             1.076612  29.801382\n",
       "DCM-WALRUS           1.200729  29.726308\n",
       "DCM-OTTER            1.271039  24.552379"
      ]
     },
     "execution_count": 28,
     "metadata": {},
     "output_type": "execute_result"
    }
   ],
   "source": [
    "# Calculate median distance and 5 overlap covered by individual DCMs and machines\n",
    "\n",
    "machines = annotation_distances.groupby('dcm_name').median().sort_values('distance_covered')\n",
    "machines[machines['distance_covered']>0][['distance_covered', 'overlap']]"
   ]
  },
  {
   "cell_type": "code",
   "execution_count": 45,
   "metadata": {},
   "outputs": [
    {
     "data": {
      "image/png": "[encoded data removed]",
      "text/plain": [
       "<Figure size 864x432 with 2 Axes>"
      ]
     },
     "metadata": {
      "needs_background": "light"
     },
     "output_type": "display_data"
    }
   ],
   "source": [
    "# plot distance by week of the year\n",
    "\n",
    "week_dist = annotation_distances.groupby('week').median()\n",
    "\n",
    "plt.figure(figsize=(12,6))\n",
    "plt.subplot(121)\n",
    "plt.plot(week_dist['distance_covered'], linewidth=2)\n",
    "plt.title('Median Distance Between Annotated Images by Week')\n",
    "plt.ylabel('Meters Apart')\n",
    "plt.ylim(0, 1.4)\n",
    "plt.xlabel('Week in 2020')\n",
    "plt.subplot(122)\n",
    "plt.plot(week_dist['overlap'], linewidth=2)\n",
    "plt.title('Median % Overlap by Week')\n",
    "plt.ylabel('% Overlap')\n",
    "plt.xlabel('Week in 2020')\n",
    "#plt.savefig('annotations.png')\n",
    "plt.show()"
   ]
  },
  {
   "cell_type": "code",
   "execution_count": 140,
   "metadata": {},
   "outputs": [
    {
     "data": {
      "text/plain": [
       "(35.39858627319336, -91.2569351196289)        10\n",
       "(41.989810943603516, -93.63055419921875)      11\n",
       "(35.67251968383789, -90.19538879394531)       12\n",
       "(35.5079345703125, -91.2315902709961)         12\n",
       "(35.67459487915039, -90.19597625732422)       12\n",
       "(35.39949035644531, -91.25665283203125)       12\n",
       "(41.9900016784668, -93.6307144165039)         14\n",
       "(35.673828125, -90.19599914550781)            15\n",
       "(35.671077728271484, -90.19627380371094)      16\n",
       "(35.64690399169922, -90.21665954589844)       16\n",
       "(35.39856719970703, -91.2569351196289)        17\n",
       "(35.67460250854492, -90.19597625732422)       17\n",
       "(35.64690399169922, -90.21659851074219)       18\n",
       "(35.398536682128906, -91.2569351196289)       18\n",
       "(35.39851760864258, -91.2569351196289)        18\n",
       "(33.31668472290039, -91.12471771240234)       20\n",
       "(35.399723052978516, -91.25665283203125)      20\n",
       "(32.472408294677734, -91.87535858154297)      23\n",
       "(33.31668472290039, -91.12471008300781)       24\n",
       "(35.67460632324219, -90.19597625732422)       29\n",
       "(35.672950744628906, -90.19622039794922)      32\n",
       "(35.398780822753906, -91.25692749023438)      33\n",
       "(35.39853286743164, -91.2569351196289)        33\n",
       "(35.398773193359375, -91.25692749023438)      34\n",
       "(35.398563385009766, -91.2569351196289)       34\n",
       "(35.39852523803711, -91.2569351196289)        34\n",
       "(35.398765563964844, -91.25692749023438)      36\n",
       "(35.39878463745117, -91.25692749023438)       37\n",
       "(35.39855194091797, -91.2569351196289)        37\n",
       "(35.39876937866211, -91.25692749023438)       37\n",
       "(35.398529052734375, -91.2569351196289)       42\n",
       "(35.39877700805664, -91.25692749023438)       43\n",
       "(35.398555755615234, -91.2569351196289)       43\n",
       "(35.671852111816406, -90.19625091552734)      44\n",
       "(35.399192810058594, -91.2569351196289)       44\n",
       "(35.398521423339844, -91.2569351196289)       44\n",
       "(35.398014068603516, -91.25665283203125)      45\n",
       "(35.3985595703125, -91.2569351196289)         45\n",
       "(35.674598693847656, -90.19597625732422)      58\n",
       "(33.855735778808594, -101.36990356445312)     78\n",
       "(33.86277770996094, -101.36489868164062)      99\n",
       "(33.862640380859375, -101.36528778076172)     99\n",
       "(33.863197326660156, -101.36397552490234)    100\n",
       "(33.86273193359375, -101.3648910522461)      102\n",
       "(33.86279296875, -101.37001037597656)        109\n",
       "(33.86267852783203, -101.37001037597656)     113\n",
       "(36.95154571533203, -121.51649475097656)     127\n",
       "(35.674583435058594, -90.19598388671875)     175\n",
       "Name: lat_lon, dtype: int64"
      ]
     },
     "execution_count": 140,
     "metadata": {},
     "output_type": "execute_result"
    }
   ],
   "source": [
    "# Identify identical lat/longs and display how many images share them\n",
    "\n",
    "qdf = full_df.copy()\n",
    "qdf['lat_lon'] = qdf.apply(lambda x: (x['latitude'], x['longitude']), axis=1)\n",
    "ident = qdf['lat_lon'].value_counts().sort_values()\n",
    "\n",
    "# Display coordinates of images with >=10 identical lat/longs\n",
    "more_than_ten = ident[ident>=10]\n",
    "more_than_ten"
   ]
  },
  {
   "cell_type": "code",
   "execution_count": 141,
   "metadata": {},
   "outputs": [
    {
     "ename": "TypeError",
     "evalue": "unhashable type: 'numpy.ndarray'",
     "output_type": "error",
     "traceback": [
      "\u001b[0;31m---------------------------------------------------------------------------\u001b[0m",
      "\u001b[0;31mTypeError\u001b[0m                                 Traceback (most recent call last)",
      "\u001b[0;32mpandas/_libs/hashtable_class_helper.pxi\u001b[0m in \u001b[0;36mpandas._libs.hashtable.PyObjectHashTable.map_locations\u001b[0;34m()\u001b[0m\n",
      "\u001b[0;31mTypeError\u001b[0m: unhashable type: 'numpy.ndarray'"
     ]
    },
    {
     "name": "stderr",
     "output_type": "stream",
     "text": [
      "Exception ignored in: 'pandas._libs.index.IndexEngine._call_map_locations'\n",
      "Traceback (most recent call last):\n",
      "  File \"pandas/_libs/hashtable_class_helper.pxi\", line 1653, in pandas._libs.hashtable.PyObjectHashTable.map_locations\n",
      "TypeError: unhashable type: 'numpy.ndarray'\n"
     ]
    },
    {
     "data": {
      "text/plain": [
       "[SHASTA-FB-BRADLEY]    29\n",
       "[BLACKBIRD]            10\n",
       "[DCM-MANATEE]           3\n",
       "[SHASTA-FB-PALADIN]     2\n",
       "[ATM-DUCKDUCK]          2\n",
       "[DCM-DOLPHIN]           1\n",
       "[SHASTA-MULE]           1\n",
       "dtype: int64"
      ]
     },
     "execution_count": 141,
     "metadata": {},
     "output_type": "execute_result"
    }
   ],
   "source": [
    "# For the above list of identical lat/longs display how many came from each machine\n",
    "\n",
    "m =[]\n",
    "for i, j in more_than_ten.index:\n",
    "    m.append(qdf[(qdf['latitude']==i)&(qdf['longitude']==j)].robot_name.unique())\n",
    "machines = pd.Series(m)\n",
    "machines.value_counts()"
   ]
  },
  {
   "cell_type": "code",
   "execution_count": 143,
   "metadata": {},
   "outputs": [
    {
     "name": "stdout",
     "output_type": "stream",
     "text": [
      "Queried 756 images in 40.53 s.\n",
      "The Unique Camera Heights From this Field Were: [1.01600003 1.26999998 1.52400005].\n",
      "This Line Should be Straight Without Large Jumps. If otherwise something is wrong with the calculation\n"
     ]
    },
    {
     "data": {
      "image/png": "[encoded data removed]",
      "text/plain": [
       "<Figure size 432x288 with 1 Axes>"
      ]
     },
     "metadata": {
      "needs_background": "light"
     },
     "output_type": "display_data"
    },
    {
     "name": "stdout",
     "output_type": "stream",
     "text": [
      "Total distance covered was 599.3 meters on the setion 5 field\n",
      "There were 756 images collected from the setion 5 field.\n",
      "The average distance between images on the setion 5 field was 1.26 meters.\n"
     ]
    }
   ],
   "source": [
    "# Examine Image Distances From a Single Field\n",
    "# Used as a quality control step to examine anomalies\n",
    "# Requires a seperate query to include non-annotated images\n",
    "\n",
    "# set field name to be examined\n",
    "ofn =  'setion 5'\n",
    "\n",
    "# Query Aletheia\n",
    "filters = {\"artifacts.kind\": \"nrg\", \n",
    "           'operating_field_name': ofn\n",
    "          }\n",
    "\n",
    "qdf, elapsed_time = get_shasta_data(filters=filters, start=start)\n",
    "qdf['date_collected'] = pd.to_datetime(qdf['collected_on'].dt.date)\n",
    "print(f\"Queried {len(qdf)} images in {elapsed_time:.2f} s.\")\n",
    "\n",
    "op = qdf[qdf['operating_field_name']== ofn]\n",
    "print(f'The Unique Camera Heights From this Field Were: {op.camera_height.unique()}.')\n",
    "features = [d.get('coordinates') for d in op.gnss]\n",
    "dst = 0\n",
    "ds = []\n",
    "\n",
    "for n in range(1,len(op)-1):\n",
    "    first_lat_long = [features[n-1][1], features[n-1][0]]\n",
    "    last_lat_long = [features[n][1], features[n][0]]\n",
    "    dist_travelled = distance.distance(first_lat_long, last_lat_long).meters\n",
    "    if (dist_travelled < 10) and (dist_travelled > 0):\n",
    "        ds.append(dst)\n",
    "        dst+=(dist_travelled)\n",
    "\n",
    "print(f'This Line Should be Straight Without Large Jumps. If otherwise something is wrong with the calculation')\n",
    "plt.plot(ds)\n",
    "plt.title('cumulative Distance Covered on Field')\n",
    "plt.show()\n",
    "\n",
    "print(f'Total distance covered was {dst:.1f} meters on the {ofn} field')\n",
    "print(f'There were {len(op)} images collected from the {ofn} field.')\n",
    "print(f'The average distance between images on the {ofn} field was {(len(op)/dst):.2f} meters.')"
   ]
  }
 ],
 "metadata": {
  "kernelspec": {
   "display_name": "Python 3",
   "language": "python",
   "name": "python3"
  },
  "language_info": {
   "codemirror_mode": {
    "name": "ipython",
    "version": 3
   },
   "file_extension": ".py",
   "mimetype": "text/x-python",
   "name": "python",
   "nbconvert_exporter": "python",
   "pygments_lexer": "ipython3",
   "version": "3.6.9"
  }
 },
 "nbformat": 4,
 "nbformat_minor": 4
}
