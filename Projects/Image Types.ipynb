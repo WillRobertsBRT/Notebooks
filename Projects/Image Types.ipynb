{
 "cells": [
  {
   "cell_type": "code",
   "execution_count": null,
   "metadata": {},
   "outputs": [],
   "source": [
    "# Create dataframes of each image type\n",
    "\n",
    "start = datetime(2020, 3,7)\n",
    "\n",
    "dcms = ['DCM-MANATEE', 'DCM-WALRUS', 'DCM-SEAL', 'DCM-OTTER', 'DCM-PORPOISE', 'DCM-DOLPHIN']\n",
    "# filter images by robot_name, image type, crop, etc\n",
    "\n",
    "filters = {\"artifacts.kind\": \"nrg\", \"crop_name\": {\"$in\": ['SOYBEANS', 'CORN', 'COTTON']}, 'robot_name':{\"$in\":dcms}}\n",
    "nrg_df, elapsed_time = f.get_shasta_data(filters =filters, start=start)\n",
    "nrg_df['date_collected'] = pd.to_datetime(nrg_df['collected_on'].dt.date)\n",
    "print(f\"Returned {len(nrg_df)} nrg images in {elapsed_time:.2f} s.\")\n",
    "\n",
    "filters = {\"artifacts.kind\": \"rgb\", \"crop_name\": {\"$in\": ['SOYBEANS', 'CORN', 'COTTON']}, 'robot_name':{\"$in\":dcms}}\n",
    "rgb_df, elapsed_time = f.get_shasta_data(filters =filters, start=start)\n",
    "rgb_df['date_collected'] = pd.to_datetime(rgb_df['collected_on'].dt.date)\n",
    "print(f\"Returned {len(rgb_df)} rgb images in {elapsed_time:.2f} s.\")\n",
    "\n",
    "filters = {\"artifacts.kind\": \"raw\", \"crop_name\": {\"$in\": ['SOYBEANS', 'CORN', 'COTTON']}, 'robot_name':{\"$in\":dcms}}\n",
    "raw_df, elapsed_time = f.get_shasta_data(filters =filters, start=start)\n",
    "raw_df['date_collected'] = pd.to_datetime(raw_df['collected_on'].dt.date)\n",
    "print(f\"Returned {len(raw_df)} raw images in {elapsed_time:.2f} s.\")"
   ]
  },
  {
   "cell_type": "code",
   "execution_count": null,
   "metadata": {},
   "outputs": [],
   "source": [
    "qdf = nrg_df.copy()\n",
    "fields = qdf.operating_field_name.unique()\n",
    "\n",
    "raw = []\n",
    "nrg = []\n",
    "rgb = []\n",
    "robot = []\n",
    "\n",
    "for f in fields:\n",
    "    raw.append(len(raw_df[raw_df['operating_field_name'] ==f]))\n",
    "    nrg.append(len(nrg_df[nrg_df['operating_field_name'] ==f]))\n",
    "    rgb.append(len(rgb_df[rgb_df['operating_field_name'] ==f]))\n",
    "    if len(qdf[qdf['operating_field_name']==f].robot_name.unique())==1:\n",
    "        robot.append(str(qdf[qdf['operating_field_name']==f].robot_name.unique()))\n",
    "    else:\n",
    "        robot.append('Multiple DCMs')"
   ]
  },
  {
   "cell_type": "code",
   "execution_count": null,
   "metadata": {},
   "outputs": [],
   "source": [
    "print(len(raw))\n",
    "print(len(rgb))\n",
    "print(len(robot))\n",
    "print(len(nrg))\n",
    "print(len(fields))\n",
    "\n",
    "type_counts = pd.DataFrame({'operating_field_name':fields, 'robot_name':robot, 'raw':raw, 'rgb':rgb, 'nrg':nrg})\n",
    "type_counts['missing_raw_images'] = type_counts['nrg'] - type_counts['raw']\n",
    "missing = type_counts[(type_counts['missing_raw_images']>0)& (type_counts['robot_name']!='Multiple DCMs')]\n",
    "missing.sort_values('missing_raw_images')"
   ]
  },
  {
   "cell_type": "code",
   "execution_count": 3,
   "metadata": {},
   "outputs": [
    {
     "name": "stdout",
     "output_type": "stream",
     "text": [
      "Returned 2295 nrg images in 43.61 s.\n",
      "Returned 1397 raw images in 39.85 s.\n"
     ]
    }
   ],
   "source": [
    "import ipywidgets as widgets\n",
    "import xdcm_dash_functions as f\n",
    "from matplotlib import rcParams\n",
    "from xdcm_dash_functions import *\n",
    "import numpy as np\n",
    "\n",
    "start = datetime(2020, 6,7)\n",
    "filters = {'artifacts.kind':'nrg', 'operating_field_name':'2774 parrish'}\n",
    "nrg_df, elapsed_time = f.get_shasta_data(filters =filters, start=start)\n",
    "#df['date_collected'] = pd.to_datetime(df['collected_on'].dt.date)\n",
    "print(f\"Returned {len(nrg_df)} nrg images in {elapsed_time:.2f} s.\")\n",
    "\n",
    "filters = {'artifacts.kind':'raw', 'operating_field_name':'2774 parrish'}\n",
    "raw_df, elapsed_time = f.get_shasta_data(filters =filters, start=start)\n",
    "#df['date_collected'] = pd.to_datetime(df['collected_on'].dt.date)\n",
    "print(f\"Returned {len(raw_df)} raw images in {elapsed_time:.2f} s.\")"
   ]
  },
  {
   "cell_type": "code",
   "execution_count": 7,
   "metadata": {},
   "outputs": [],
   "source": [
    "nrg_df['lat_lon'] = nrg_df.apply(lambda x: (x['latitude'], x['longitude']), axis=1)\n",
    "nrg_df = nrg_df.sort_values('lat_lon')\n",
    "\n",
    "raw_df['lat_lon'] = raw_df.apply(lambda x: (x['latitude'], x['longitude']), axis=1)\n",
    "raw_df = raw_df.sort_values('lat_lon')\n",
    "\n",
    "seq=[]\n",
    "\n",
    "for t in nrg_df.lat_lon:\n",
    "    if t in (raw_df['lat_lon']):\n",
    "        seq.append(1)\n",
    "    else:\n",
    "        seq.append(0)\n",
    "        \n",
    "plt.plot(seq)\n",
    "plt.show()"
   ]
  },
  {
   "cell_type": "code",
   "execution_count": 8,
   "metadata": {},
   "outputs": [
    {
     "data": {
      "image/png": "[encoded data removed]",
      "text/plain": [
       "<Figure size 432x288 with 1 Axes>"
      ]
     },
     "metadata": {},
     "output_type": "display_data"
    }
   ],
   "source": [
    "plt.plot(seq)\n",
    "plt.show()"
   ]
  },
  {
   "cell_type": "code",
   "execution_count": null,
   "metadata": {},
   "outputs": [],
   "source": []
  }
 ],
 "metadata": {
  "kernelspec": {
   "display_name": "Python 3",
   "language": "python",
   "name": "python3"
  },
  "language_info": {
   "codemirror_mode": {
    "name": "ipython",
    "version": 3
   },
   "file_extension": ".py",
   "mimetype": "text/x-python",
   "name": "python",
   "nbconvert_exporter": "python",
   "pygments_lexer": "ipython3",
   "version": "3.6.9"
  }
 },
 "nbformat": 4,
 "nbformat_minor": 4
}
