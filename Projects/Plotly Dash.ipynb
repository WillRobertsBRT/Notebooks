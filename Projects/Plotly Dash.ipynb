{
 "cells": [
  {
   "cell_type": "code",
   "execution_count": 5,
   "metadata": {},
   "outputs": [
    {
     "name": "stdout",
     "output_type": "stream",
     "text": [
      "The autoreload extension is already loaded. To reload it, use:\n",
      "  %reload_ext autoreload\n"
     ]
    }
   ],
   "source": [
    "import plotly\n",
    "import plotly.offline as pyo\n",
    "from matplotlib import pyplot as plt\n",
    "import pandas as pd\n",
    "import numpy as np\n",
    "import xdcm_dash_functions as f\n",
    "import skimage.transform as skt\n",
    "\n",
    "%load_ext autoreload\n",
    "%autoreload 2\n",
    "%matplotlib inline\n",
    "\n",
    "from xdcm_dash_functions import *\n",
    "\n",
    "\"\"\"\n",
    "Colorization and visualization utilities.\n",
    "\"\"\"\n",
    "\n",
    "PIX_DATA_CLASS_DIRT = 0\n",
    "PIX_DATA_CLASS_WEED = 1\n",
    "PIX_DATA_CLASS_CROP = 2"
   ]
  },
  {
   "cell_type": "code",
   "execution_count": 9,
   "metadata": {},
   "outputs": [
    {
     "name": "stderr",
     "output_type": "stream",
     "text": [
      "\u001b[31;1m2020-05-27 16:36:35,350 - APIRequestor - ERROR - API Authentication failed. rcode: 401, message: b'{\"message\":\"Invalid OAuth access token\"}\\n'\n",
      "\u001b[0m\u001b[34;1m2020-05-27 16:36:35,350 - APIRequestor - INFO - API access token expired. Refreshing tokens now.\n",
      "\u001b[0m"
     ]
    },
    {
     "name": "stdout",
     "output_type": "stream",
     "text": [
      "Queried 55817 images in 75.58 s.\n"
     ]
    }
   ],
   "source": [
    "from datetime import datetime\n",
    "\n",
    "# filter out images that are not NRG (e.g no RGB images), robots that are not DCMS and images with no crop label. \n",
    "filters = {\"artifacts.kind\": \"nrg\", \"crop_name\": {\"$ne\": None}, \"robot_name\": {\"$in\": [\"DCM-MANATEE\",\"DCM-OTTER\", \"DCM-DOLPHIN\"]} }\n",
    "start = datetime(2020, 3,7) # Andrei had set this to 2020,3,7\n",
    "full_df, elapsed_time = f.get_shasta_data(filters=filters, start=start)\n",
    "full_df['date_collected'] = pd.to_datetime(full_df['collected_on'].dt.date)\n",
    "print(f\"Queried {len(full_df)} images in {elapsed_time:.2f} s.\")"
   ]
  },
  {
   "cell_type": "code",
   "execution_count": null,
   "metadata": {},
   "outputs": [],
   "source": [
    "# Elements of figure\n",
    "data = [go.Bar(x=, y=)]\n",
    "layout = go.Layout(title=)\n",
    "fig=go.Figure(data=data, layout=layout)\n",
    "pyo.plot(fig)"
   ]
  },
  {
   "cell_type": "code",
   "execution_count": null,
   "metadata": {},
   "outputs": [],
   "source": []
  }
 ],
 "metadata": {
  "kernelspec": {
   "display_name": "Python 3",
   "language": "python",
   "name": "python3"
  },
  "language_info": {
   "codemirror_mode": {
    "name": "ipython",
    "version": 3
   },
   "file_extension": ".py",
   "mimetype": "text/x-python",
   "name": "python",
   "nbconvert_exporter": "python",
   "pygments_lexer": "ipython3",
   "version": "3.6.9"
  }
 },
 "nbformat": 4,
 "nbformat_minor": 4
}
