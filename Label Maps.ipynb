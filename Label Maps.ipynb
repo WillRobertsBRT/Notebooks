{
 "cells": [
  {
   "cell_type": "code",
   "execution_count": 6,
   "metadata": {},
   "outputs": [],
   "source": [
    "import os \n",
    "import numpy as np\n",
    "import pandas as pd\n",
    "import brtdevkit\n",
    "from brtdevkit.data import Dataset\n",
    "\n",
    "# The two possible label maps\n",
    "two_class = {'1': 'crop', '2': 'weed'}\n",
    "six_class = {'0': 'ground', '1': 'other weed', '2': 'crop', '3': 'amaranth family', \n",
    "             '4': 'marestail', '5': 'giant ragweed', '6': 'kochia'}"
   ]
  },
  {
   "cell_type": "code",
   "execution_count": 2,
   "metadata": {},
   "outputs": [
    {
     "name": "stdout",
     "output_type": "stream",
     "text": [
      "{\n",
      "  \"created_at\": \"2020-06-30T23:53:56.213000\",\n",
      "  \"created_by\": \"5df82b3a5207f7a8800d6d38\",\n",
      "  \"created_by_email\": \"andrei.polzounov@bluerivert.com\",\n",
      "  \"description\": \"SOYBEANS active learning test dataset with 2751 images. Date range: 2020-05-09 15:23:14.636000 - 2020-06-15 20:12:44.382000. Active Learning. States: ['Kansas', 'Nebraska', 'Indiana']\",\n",
      "  \"id\": \"5efbd094a2d966260361da63\",\n",
      "  \"is_deleted\": false,\n",
      "  \"kind\": \"annotation\",\n",
      "  \"metadata_s3_bucket\": \"tartarus.datasets\",\n",
      "  \"metadata_s3_key\": \"prod/annotation/5efbd094a2d966260361da63.jsonl\",\n",
      "  \"name\": \"2020-06-30_soy_2751_al_test\",\n",
      "  \"parameters\": {},\n",
      "  \"request_s3_location\": {\n",
      "    \"s3_bucket\": \"tartarus.datasets\",\n",
      "    \"s3_key\": \"prod/dataset_request/5df82b3a5207f7a8800d6d38_7fc2352b402f42b99a9a91bbdddbd374.json\"\n",
      "  },\n",
      "  \"state\": \"ready\"\n",
      "}\n"
     ]
    }
   ],
   "source": [
    "# Examine the test set\n",
    "test_dataset = Dataset.retrieve(name=\"2020-06-30_soy_2751_al_test\")\n",
    "print(test_dataset)"
   ]
  },
  {
   "cell_type": "code",
   "execution_count": 3,
   "metadata": {},
   "outputs": [
    {
     "data": {
      "text/plain": [
       "Index(['id', 'is_deleted', 'collected_on', 'gnss', 'has_human_annotation',\n",
       "       'uuid', 'artifacts_content_hash', 'angle_to_row',\n",
       "       'camera_exposure_algo', 'camera_exposure_time', 'camera_focal_length',\n",
       "       'camera_fstop', 'camera_gain', 'camera_height', 'camera_manufacturer',\n",
       "       'camera_ppi', 'camera_revision', 'camera_sensor_name',\n",
       "       'camera_sensor_type', 'camera_serial', 'cloud_cover', 'crop_damage',\n",
       "       'crop_health', 'crop_height', 'crop_name', 'crop_residue',\n",
       "       'experiment_id', 'farm', 'furrow_depth_inches', 'gps_course',\n",
       "       'gps_quality', 'gps_speed', 'group_id', 'grower', 'icp_version',\n",
       "       'isp_version', 'latitude', 'longitude', 'operating_field_name',\n",
       "       'operator_name', 'project_name', 'raw_bit_depth', 'robot_name',\n",
       "       'row_spacing', 'soil_color', 'tillage_practice', 'type',\n",
       "       'weed_pressure', 'weeds', 'notes', 'artifact_nrg_0__id',\n",
       "       'artifact_nrg_0_kind', 'artifact_nrg_0_content_hash',\n",
       "       'artifact_nrg_0_s3_bucket', 'artifact_nrg_0_s3_key',\n",
       "       'artifact_nrg_0_web_s3_bucket', 'artifact_nrg_0_web_s3_key',\n",
       "       'artifact_nrg_0_height', 'artifact_nrg_0_width',\n",
       "       'annotation_pixelwise_0__id', 'annotation_pixelwise_0__cls',\n",
       "       'annotation_pixelwise_0_is_deleted',\n",
       "       'annotation_pixelwise_0_created_at',\n",
       "       'annotation_pixelwise_0_updated_at',\n",
       "       'annotation_pixelwise_0_review_request',\n",
       "       'annotation_pixelwise_0_review_reasons',\n",
       "       'annotation_pixelwise_0_audit_mistakes',\n",
       "       'annotation_pixelwise_0_audit_requested',\n",
       "       'annotation_pixelwise_0_label_policy',\n",
       "       'annotation_pixelwise_0_is_active_version',\n",
       "       'annotation_pixelwise_0_kind',\n",
       "       'annotation_pixelwise_0_nothing_to_annotate',\n",
       "       'annotation_pixelwise_0_state', 'annotation_pixelwise_0_label_map',\n",
       "       'annotation_pixelwise_0_annotation_job_id',\n",
       "       'annotation_pixelwise_0_vendor_metadata',\n",
       "       'annotation_pixelwise_0_style', 'annotation_pixelwise_0_s3_key',\n",
       "       'annotation_pixelwise_0_s3_bucket',\n",
       "       'annotation_pixelwise_0_prev_version'],\n",
       "      dtype='object')"
      ]
     },
     "execution_count": 3,
     "metadata": {},
     "output_type": "execute_result"
    }
   ],
   "source": [
    "# note this dataset does not have a bounding_box label map column\n",
    "test_df = test_dataset.to_dataframe()\n",
    "test_df.columns"
   ]
  },
  {
   "cell_type": "code",
   "execution_count": 7,
   "metadata": {},
   "outputs": [
    {
     "name": "stdout",
     "output_type": "stream",
     "text": [
      "Out of 2751 images, 0 lack the normal 2-class pixelwise label map images\n"
     ]
    }
   ],
   "source": [
    "# Check for anomalies in pixelwise label map\n",
    "anomalies = 0 \n",
    "\n",
    "for i in range(len(test_df)):\n",
    "    if test_df.annotation_pixelwise_0_label_map.values[i] != two_class:\n",
    "        anomalies +=1\n",
    "\n",
    "print(f'Out of {len(test_df)} images, {anomalies} lack the normal 2-class pixelwise label map images')"
   ]
  },
  {
   "cell_type": "code",
   "execution_count": 8,
   "metadata": {},
   "outputs": [
    {
     "name": "stdout",
     "output_type": "stream",
     "text": [
      "{\n",
      "  \"created_at\": \"2020-06-30T23:53:45.498000\",\n",
      "  \"created_by\": \"5df82b3a5207f7a8800d6d38\",\n",
      "  \"created_by_email\": \"andrei.polzounov@bluerivert.com\",\n",
      "  \"description\": \"SOYBEANS active learning train dataset with 13736 images. Date range: 2020-04-09 17:22:08.187000 - 2020-06-17 19:09:42.621000. Active Learning. States: ['Arkansas', 'Iowa', 'Louisiana', 'Texas', 'Illinois']\",\n",
      "  \"id\": \"5efbd08934742910d8c5af08\",\n",
      "  \"is_deleted\": false,\n",
      "  \"kind\": \"annotation\",\n",
      "  \"metadata_s3_bucket\": \"tartarus.datasets\",\n",
      "  \"metadata_s3_key\": \"prod/annotation/5efbd08934742910d8c5af08.jsonl\",\n",
      "  \"name\": \"2020-06-30_soy_13736_al_train\",\n",
      "  \"parameters\": {},\n",
      "  \"request_s3_location\": {\n",
      "    \"s3_bucket\": \"tartarus.datasets\",\n",
      "    \"s3_key\": \"prod/dataset_request/5df82b3a5207f7a8800d6d38_8930a9d8b3f74b099ceda23c756c822f.json\"\n",
      "  },\n",
      "  \"state\": \"ready\"\n",
      "}\n"
     ]
    }
   ],
   "source": [
    "# Training Set, found to have all the label map anomalies\n",
    "train_dataset = Dataset.retrieve(name=\"2020-06-30_soy_13736_al_train\")\n",
    "print(train_dataset)"
   ]
  },
  {
   "cell_type": "code",
   "execution_count": 9,
   "metadata": {},
   "outputs": [
    {
     "data": {
      "text/plain": [
       "Index(['id', 'is_deleted', 'collected_on', 'gnss', 'has_human_annotation',\n",
       "       'uuid', 'artifacts_content_hash', 'angle_to_row',\n",
       "       'camera_exposure_algo', 'camera_exposure_time',\n",
       "       ...\n",
       "       'annotation_bounding_box_0_kind',\n",
       "       'annotation_bounding_box_0_nothing_to_annotate',\n",
       "       'annotation_bounding_box_0_state',\n",
       "       'annotation_bounding_box_0_label_map',\n",
       "       'annotation_bounding_box_0_annotation_job_id',\n",
       "       'annotation_bounding_box_0_vendor_metadata',\n",
       "       'annotation_bounding_box_0_style',\n",
       "       'annotation_bounding_box_0_bounding_boxes',\n",
       "       'annotation_pixelwise_0_request_review',\n",
       "       'annotation_pixelwise_0_review_requested_by'],\n",
       "      dtype='object', length=101)"
      ]
     },
     "execution_count": 9,
     "metadata": {},
     "output_type": "execute_result"
    }
   ],
   "source": [
    "# Examine columns\n",
    "df = train_dataset.to_dataframe()\n",
    "df.columns"
   ]
  },
  {
   "cell_type": "code",
   "execution_count": 10,
   "metadata": {},
   "outputs": [
    {
     "name": "stdout",
     "output_type": "stream",
     "text": [
      "Out of 13736 total images:\n",
      "There are 13570 normal 2-class pixelwise label map images\n",
      "There are 13668 images without any bounding box label map\n",
      "There are 98 6-class pixelwise label map images\n",
      "There are 68 images with the 6-class bounding box labels\n",
      "There are 68 images without any pixelwise label map\n"
     ]
    }
   ],
   "source": [
    "# check train set and examine labels\n",
    "\n",
    "bb_normal=0\n",
    "pw_normal = 0\n",
    "pw_missing = 0\n",
    "pw_six_class_ids = []\n",
    "bb_six_class_ids = []\n",
    "pw_missing_ids = []\n",
    "\n",
    "for i in range(len(df)):\n",
    "    if df.annotation_pixelwise_0_label_map.values[i] == two_class:\n",
    "        pw_normal +=1\n",
    "    if df.annotation_pixelwise_0_label_map.values[i] == six_class:\n",
    "        pw_six_class_ids.append(df.id[i])\n",
    "    if (df.annotation_bounding_box_0_label_map.values[i] != two_class) & (df.annotation_bounding_box_0_label_map.values[i] != six_class):\n",
    "        bb_normal +=1\n",
    "    if (df.annotation_pixelwise_0_label_map.values[i] != two_class) & (df.annotation_pixelwise_0_label_map.values[i] != six_class):\n",
    "        pw_missing +=1\n",
    "        pw_missing_ids.append(df.id[i])\n",
    "    if (df.annotation_bounding_box_0_label_map.values[i] == six_class):\n",
    "        bb_six_class_ids.append(df.id[i])\n",
    "        \n",
    "print(f'Out of {len(df)} total images:')\n",
    "print(f'There are {pw_normal} normal 2-class pixelwise label map images')\n",
    "print(f'There are {bb_normal} images without any bounding box label map')\n",
    "print(f'There are {len(pw_six_class_ids)} 6-class pixelwise label map images')\n",
    "print(f'There are {len(bb_six_class_ids)} images with the 6-class bounding box labels')\n",
    "print(f'There are {len(pw_missing_ids)} images without any pixelwise label map')"
   ]
  },
  {
   "cell_type": "code",
   "execution_count": 24,
   "metadata": {},
   "outputs": [
    {
     "name": "stdout",
     "output_type": "stream",
     "text": [
      "annotation_pixelwise_0_label_policy\n",
      "5eb48622e154067231d81219    10453\n",
      "5eb48622e154067231d8121a     3109\n",
      "Name: id, dtype: int64\n",
      "\n",
      "annotation_bounding_box_0_label_policy:\n",
      "Series([], Name: id, dtype: int64)\n"
     ]
    }
   ],
   "source": [
    "# Examine label policy\n",
    "# The normal two-class labels have two different pixelwise label policies\n",
    "\n",
    "two_class_df = df[df.annotation_pixelwise_0_label_map.values == two_class]\n",
    "print(two_class_df.groupby(['annotation_pixelwise_0_label_policy']).count()['id'])\n",
    "print('')\n",
    "\n",
    "# There is no bounding_box label policy for these images\n",
    "print('annotation_bounding_box_0_label_policy:')\n",
    "print(two_class_df.groupby(['annotation_bounding_box_0_label_policy']).count()['id'])"
   ]
  },
  {
   "cell_type": "code",
   "execution_count": 22,
   "metadata": {},
   "outputs": [
    {
     "name": "stdout",
     "output_type": "stream",
     "text": [
      "annotation_pixelwise_0_label_policy\n",
      "5ee946767c87f8689a1d5926    98\n",
      "Name: id, dtype: int64\n",
      "\n",
      "annotation_bounding_box_0_label_policy:\n",
      "Series([], Name: id, dtype: int64)\n"
     ]
    }
   ],
   "source": [
    "# Examine label policy\n",
    "# The six-class pixelwise labels have a different pixelwise label policy\n",
    "\n",
    "six_class_df = df[df.annotation_pixelwise_0_label_map.values == six_class]\n",
    "print(six_class_df.groupby(['annotation_pixelwise_0_label_policy']).count()['id'])\n",
    "print('')\n",
    "\n",
    "# There is also no bounding_box label policy for these images\n",
    "print('annotation_bounding_box_0_label_policy:')\n",
    "print(six_class_df.groupby(['annotation_bounding_box_0_label_policy']).count()['id'])"
   ]
  },
  {
   "cell_type": "code",
   "execution_count": 25,
   "metadata": {},
   "outputs": [
    {
     "name": "stdout",
     "output_type": "stream",
     "text": [
      "annotation_pixelwise_0_label_policy\n",
      "Series([], Name: id, dtype: int64)\n",
      "\n",
      "annotation_bounding_box_0_label_policy\n",
      "5edf040ddfbb6dad31a2a38c    68\n",
      "Name: id, dtype: int64\n"
     ]
    }
   ],
   "source": [
    "# The six-class bounding box annotation labels do not have a pixelwise label policy\n",
    "bbox_six_class_df = df[df.annotation_bounding_box_0_label_map.values == six_class]\n",
    "print('annotation_pixelwise_0_label_policy')\n",
    "print(bbox_six_class_df.groupby(['annotation_pixelwise_0_label_policy']).count()['id'])\n",
    "print('')\n",
    "\n",
    "# But they do have a bounding_box label policy\n",
    "print(bbox_six_class_df.groupby(['annotation_bounding_box_0_label_policy']).count()['id'])"
   ]
  },
  {
   "cell_type": "code",
   "execution_count": 45,
   "metadata": {},
   "outputs": [
    {
     "name": "stdout",
     "output_type": "stream",
     "text": [
      "5ebee1a9371207bf39e2d9fb is an example of an image id with the 6-class pixelwise label map\n",
      "5ebee1a7371207bf39e2d997 is an example of an image id with the 6-class bounding box label map\n",
      "5ebee1a7371207bf39e2d997 is an example of an image id with no pixelwise label map\n"
     ]
    }
   ],
   "source": [
    "# Display problem image ids to look at in Aletheia\n",
    "print(f'{pw_six_class_ids[0]} is an example of an image id with the 6-class pixelwise label map')\n",
    "print(f'{bb_six_class_ids[0]} is an example of an image id with the 6-class bounding box label map')\n",
    "print(f'{pw_missing_ids[0]} is an example of an image id with no pixelwise label map, though it is labeled in Aletheia')"
   ]
  },
  {
   "cell_type": "code",
   "execution_count": null,
   "metadata": {},
   "outputs": [],
   "source": []
  }
 ],
 "metadata": {
  "kernelspec": {
   "display_name": "Python 3",
   "language": "python",
   "name": "python3"
  },
  "language_info": {
   "codemirror_mode": {
    "name": "ipython",
    "version": 3
   },
   "file_extension": ".py",
   "mimetype": "text/x-python",
   "name": "python",
   "nbconvert_exporter": "python",
   "pygments_lexer": "ipython3",
   "version": "3.6.9"
  }
 },
 "nbformat": 4,
 "nbformat_minor": 4
}
