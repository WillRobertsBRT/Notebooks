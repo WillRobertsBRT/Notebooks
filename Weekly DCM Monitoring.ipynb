{
 "cells": [
  {
   "cell_type": "markdown",
   "metadata": {},
   "source": [
    "## Weekly Monitoring of Field Imaging Activities\n",
    "\n",
    "Tools for measuring 2020 field imaging progress against specific data collection goals.\n",
    "\n",
    "An extension of the tools developed in the xdcm dashboard.\n"
   ]
  },
  {
   "cell_type": "code",
   "execution_count": 1,
   "metadata": {},
   "outputs": [
    {
     "name": "stdout",
     "output_type": "stream",
     "text": [
      "Queried 521654 images in 433.25 s.\n"
     ]
    }
   ],
   "source": [
    "# Import libraries and query Aletheia\n",
    "# May take several minutes to run depending on query parameters\n",
    "\n",
    "import time\n",
    "import numpy as np\n",
    "import pandas as pd\n",
    "from datetime import datetime as dt\n",
    "from brtdevkit.core.db import DBConnector, DatetimeFilter\n",
    "from matplotlib import pyplot as plt, rcParams\n",
    "import seaborn as sns\n",
    "sns.set_style('whitegrid')\n",
    "\n",
    "def get_shasta_data(filters={}, start=None, end=None, limit=None):\n",
    "    \"\"\"\n",
    "    Query relevant Shasta data for calculations. Written by Andrei P.\n",
    "    \"\"\"\n",
    "    start_time = time.time()\n",
    "    connector = DBConnector()\n",
    "    img_filters = {'project_name': 'shasta', **filters}\n",
    "    if start is not None or end is not None:\n",
    "        img_filters = [img_filters, DatetimeFilter(key=\"collected_on\", start=start, end=end)]\n",
    "    df = connector.get_documents_df('image', img_filters, limit=limit)\n",
    "    elapsed_time = time.time() - start_time\n",
    "    return df, elapsed_time\n",
    "\n",
    "# Set filters for query\n",
    "#filters = {\"artifacts.kind\": \"nrg\", \n",
    "           #\"crop_name\": {\"$in\": ['CORN', 'COTTON', 'SOYBEANS']}, \n",
    "           #\"robot_name\": {\"$in\": [\"DCM-MANATEE\",\"DCM-OTTER\", \"DCM-DOLPHIN\", \"DCM-WALRUS\", \"DCM-PORPOISE\", \"DCM-SEAL\"]} }\n",
    "dcms = ['DCM-MANATEE', 'DCM-WALRUS', 'DCM-SEAL', 'DCM-OTTER', 'DCM-PORPOISE', 'DCM-DOLPHIN']\n",
    "# , \"experiment_id\":\"representative weed press\",\n",
    "# filter images by robot_name, image type, crop, etc\n",
    "filters = {\"artifacts.kind\": \"nrg\",\"crop_name\": {\"$in\": ['SOYBEANS', 'CORN', 'COTTON']}, 'robot_name':{'$in':dcms}}\n",
    "        \n",
    "# Set start date\n",
    "start = dt(2020, 3,1)\n",
    "\n",
    "full_df, elapsed_time = get_shasta_data(filters=filters, start=start)\n",
    "full_df['date_collected'] = pd.to_datetime(full_df['collected_on'].dt.date)\n",
    "print(f\"Queried {len(full_df)} images in {elapsed_time:.2f} s.\")"
   ]
  },
  {
   "cell_type": "code",
   "execution_count": 2,
   "metadata": {},
   "outputs": [
    {
     "name": "stdout",
     "output_type": "stream",
     "text": [
      "207\n"
     ]
    },
    {
     "data": {
      "text/plain": [
       "(32.576778411865234, -91.43036651611328)     4\n",
       "(35.50861358642578, -91.23123168945312)      4\n",
       "(35.70009994506836, -90.24120330810547)      4\n",
       "(35.50834274291992, -91.23170471191406)      4\n",
       "(35.507850646972656, -91.23165893554688)     4\n",
       "(32.56386184692383, -91.41969299316406)      4\n",
       "(35.40495681762695, -91.2560043334961)       4\n",
       "(35.40462112426758, -91.25731658935547)      4\n",
       "(35.499107360839844, -91.23002624511719)     4\n",
       "(35.507930755615234, -91.23149108886719)     4\n",
       "(35.700103759765625, -90.241455078125)       4\n",
       "(35.69998550415039, -90.24150085449219)      4\n",
       "(32.42731475830078, -91.86714172363281)      4\n",
       "(35.40458679199219, -91.25728607177734)      5\n",
       "(35.507930755615234, -91.23140716552734)     5\n",
       "(35.507930755615234, -91.23143005371094)     5\n",
       "(35.490394592285156, -91.22270965576172)     5\n",
       "(35.507930755615234, -91.2314453125)         5\n",
       "(35.507930755615234, -91.2313003540039)      5\n",
       "(35.49884796142578, -91.23002624511719)      5\n",
       "(32.47257995605469, -91.87535858154297)      5\n",
       "(35.40461349487305, -91.25730895996094)      5\n",
       "(35.50035858154297, -91.22978973388672)      5\n",
       "(35.69998550415039, -90.24163055419922)      5\n",
       "(35.507930755615234, -91.23136901855469)     5\n",
       "(35.404884338378906, -91.25567626953125)     5\n",
       "(35.507930755615234, -91.23135375976562)     6\n",
       "(35.507930755615234, -91.23138427734375)     6\n",
       "(35.507930755615234, -91.23130798339844)     6\n",
       "(35.507930755615234, -91.23141479492188)     7\n",
       "(35.40324020385742, -91.26113891601562)      7\n",
       "(35.40483093261719, -91.25537872314453)      7\n",
       "(35.507930755615234, -91.23133850097656)     7\n",
       "(0.0, 0.0)                                   9\n",
       "(35.5079345703125, -91.2315902709961)       12\n",
       "(32.472408294677734, -91.87535858154297)    23\n",
       "Name: lat_lon, dtype: int64"
      ]
     },
     "execution_count": 2,
     "metadata": {},
     "output_type": "execute_result"
    }
   ],
   "source": [
    "qdf=full_df.copy()\n",
    "qdf = qdf[(qdf['has_human_annotation']==True)&(qdf['crop_name']=='SOYBEANS')]\n",
    "qdf['lat_lon'] = qdf.apply(lambda x: (x['latitude'], x['longitude']), axis=1)\n",
    "\n",
    "#print(qdf[(qdf['latitude']==35.671077728271484)&(qdf['longitude']==-90.19627380371094)]['robot_name'])\n",
    "identical = qdf['lat_lon'].value_counts().sort_values()[-36:]\n",
    "print(np.sum(identical))\n",
    "identical"
   ]
  },
  {
   "cell_type": "code",
   "execution_count": 37,
   "metadata": {},
   "outputs": [
    {
     "ename": "TypeError",
     "evalue": "unhashable type: 'numpy.ndarray'",
     "output_type": "error",
     "traceback": [
      "\u001b[0;31m---------------------------------------------------------------------------\u001b[0m",
      "\u001b[0;31mTypeError\u001b[0m                                 Traceback (most recent call last)",
      "\u001b[0;32mpandas/_libs/hashtable_class_helper.pxi\u001b[0m in \u001b[0;36mpandas._libs.hashtable.PyObjectHashTable.map_locations\u001b[0;34m()\u001b[0m\n",
      "\u001b[0;31mTypeError\u001b[0m: unhashable type: 'numpy.ndarray'"
     ]
    },
    {
     "name": "stderr",
     "output_type": "stream",
     "text": [
      "Exception ignored in: 'pandas._libs.index.IndexEngine._call_map_locations'\n",
      "Traceback (most recent call last):\n",
      "  File \"pandas/_libs/hashtable_class_helper.pxi\", line 1653, in pandas._libs.hashtable.PyObjectHashTable.map_locations\n",
      "TypeError: unhashable type: 'numpy.ndarray'\n"
     ]
    },
    {
     "data": {
      "text/plain": [
       "[SHASTA-FB-BRADLEY]    22\n",
       "[BLACKBIRD]            10\n",
       "[SHASTA-FB-PALADIN]     2\n",
       "[DCM-MANATEE]           1\n",
       "[DCM-DOLPHIN]           1\n",
       "dtype: int64"
      ]
     },
     "execution_count": 37,
     "metadata": {},
     "output_type": "execute_result"
    }
   ],
   "source": [
    "#identical = qdf['lat_lon'].value_counts().sort_values()[-100:]\n",
    "m =[]\n",
    "for i, j in identical.index:\n",
    "    m.append(qdf[(qdf['latitude']==i)&(qdf['longitude']==j)].robot_name.unique())\n",
    "machines = pd.Series(m)\n",
    "machines.value_counts()"
   ]
  },
  {
   "cell_type": "code",
   "execution_count": 3,
   "metadata": {},
   "outputs": [],
   "source": [
    "# Create dataframe of distance covered and number of images collected per field\n",
    "# Vectorizing these calculations would get rid of these for loops and make this cell run a bit faster\n",
    "\n",
    "from geopy import distance\n",
    "\n",
    "qdf = full_df.copy()\n",
    "\n",
    "# Determine Distance\n",
    "ds = []\n",
    "ns = []\n",
    "cms= []\n",
    "fields = []\n",
    "dcms = qdf.groupby(['grower','robot_name','operating_field_name']).count().reset_index()\n",
    "dc = dcms['robot_name'].unique()\n",
    "\n",
    "for d in dc:\n",
    "    ddf = qdf[qdf['robot_name']==d]\n",
    "    for o in ddf['operating_field_name'].unique():\n",
    "        op = ddf[ddf['operating_field_name']== o]\n",
    "        features = [d.get('coordinates') for d in op.gnss]\n",
    "        dst = 0\n",
    "        for n in range(1,len(op)-1):\n",
    "            first_lat_long = [features[n-1][1], features[n-1][0]]\n",
    "            last_lat_long = [features[n][1], features[n][0]]\n",
    "            dist_travelled = distance.distance(first_lat_long, last_lat_long).meters\n",
    "            if (dist_travelled < 2) and (dist_travelled > 0):\n",
    "                dst+=(dist_travelled)\n",
    "        ds.append(dst)\n",
    "        fields.append(o)\n",
    "        cms.append(d)\n",
    "        ns.append(len(op))\n",
    "\n",
    "dcm_distances = pd.DataFrame({'dcm_name':cms, 'operating_field_name':fields, 'n_images_collected':ns, 'distance_covered':ds})"
   ]
  },
  {
   "cell_type": "code",
   "execution_count": 4,
   "metadata": {},
   "outputs": [
    {
     "data": {
      "image/png": "[encoded data removed]",
      "text/plain": [
       "<Figure size 792x504 with 1 Axes>"
      ]
     },
     "metadata": {},
     "output_type": "display_data"
    },
    {
     "name": "stdout",
     "output_type": "stream",
     "text": [
      "We have collected 754.4 images per field on average.\n",
      "Of the 669 fields collected to date in 2020, 57.55% of them have at least 600 images.\n"
     ]
    }
   ],
   "source": [
    "# How many images are we collecting per field?\n",
    "\n",
    "plt.figure(figsize=(11,7))\n",
    "plt.hist(dcm_distances['n_images_collected'], bins=20, color='forestgreen')\n",
    "plt.title('Images Collected per Field')\n",
    "plt.axvline(600, color='gold', linestyle='--')\n",
    "plt.show()\n",
    "\n",
    "under_spec = len(dcm_distances[dcm_distances['n_images_collected']>=600])\n",
    "\n",
    "print(f'We have collected {np.mean(dcm_distances.n_images_collected):.1f} images per field on average.')\n",
    "print(f'Of the {len(dcm_distances)} fields collected to date in 2020, {((under_spec/len(dcm_distances))*100):.2f}% of them have at least 600 images.')"
   ]
  },
  {
   "cell_type": "code",
   "execution_count": 5,
   "metadata": {},
   "outputs": [
    {
     "data": {
      "text/html": [
       "<div>\n",
       "<style scoped>\n",
       "    .dataframe tbody tr th:only-of-type {\n",
       "        vertical-align: middle;\n",
       "    }\n",
       "\n",
       "    .dataframe tbody tr th {\n",
       "        vertical-align: top;\n",
       "    }\n",
       "\n",
       "    .dataframe thead th {\n",
       "        text-align: right;\n",
       "    }\n",
       "</style>\n",
       "<table border=\"1\" class=\"dataframe\">\n",
       "  <thead>\n",
       "    <tr style=\"text-align: right;\">\n",
       "      <th></th>\n",
       "      <th>n_images_collected</th>\n",
       "      <th>distance_covered</th>\n",
       "      <th>images/meter</th>\n",
       "    </tr>\n",
       "    <tr>\n",
       "      <th>dcm_name</th>\n",
       "      <th></th>\n",
       "      <th></th>\n",
       "      <th></th>\n",
       "    </tr>\n",
       "  </thead>\n",
       "  <tbody>\n",
       "    <tr>\n",
       "      <th>DCM-DOLPHIN</th>\n",
       "      <td>478.189944</td>\n",
       "      <td>383.983899</td>\n",
       "      <td>1.245339</td>\n",
       "    </tr>\n",
       "    <tr>\n",
       "      <th>DCM-MANATEE</th>\n",
       "      <td>773.252427</td>\n",
       "      <td>465.724338</td>\n",
       "      <td>1.660322</td>\n",
       "    </tr>\n",
       "    <tr>\n",
       "      <th>DCM-OTTER</th>\n",
       "      <td>1015.744048</td>\n",
       "      <td>888.600423</td>\n",
       "      <td>1.143083</td>\n",
       "    </tr>\n",
       "    <tr>\n",
       "      <th>DCM-PORPOISE</th>\n",
       "      <td>499.000000</td>\n",
       "      <td>367.693450</td>\n",
       "      <td>1.357109</td>\n",
       "    </tr>\n",
       "    <tr>\n",
       "      <th>DCM-SEAL</th>\n",
       "      <td>627.776316</td>\n",
       "      <td>515.999098</td>\n",
       "      <td>1.216623</td>\n",
       "    </tr>\n",
       "    <tr>\n",
       "      <th>DCM-WALRUS</th>\n",
       "      <td>1049.923077</td>\n",
       "      <td>544.808106</td>\n",
       "      <td>1.927143</td>\n",
       "    </tr>\n",
       "  </tbody>\n",
       "</table>\n",
       "</div>"
      ],
      "text/plain": [
       "              n_images_collected  distance_covered  images/meter\n",
       "dcm_name                                                        \n",
       "DCM-DOLPHIN           478.189944        383.983899      1.245339\n",
       "DCM-MANATEE           773.252427        465.724338      1.660322\n",
       "DCM-OTTER            1015.744048        888.600423      1.143083\n",
       "DCM-PORPOISE          499.000000        367.693450      1.357109\n",
       "DCM-SEAL              627.776316        515.999098      1.216623\n",
       "DCM-WALRUS           1049.923077        544.808106      1.927143"
      ]
     },
     "execution_count": 5,
     "metadata": {},
     "output_type": "execute_result"
    }
   ],
   "source": [
    "# How does the number of images collected per field vary by DCM?\n",
    "\n",
    "mean_distances = dcm_distances.groupby(['dcm_name']).mean()\n",
    "mean_distances['images/meter'] = mean_distances['n_images_collected']/mean_distances['distance_covered']\n",
    "mean_distances = mean_distances[mean_distances['images/meter']<4]\n",
    "\n",
    "mean_distances"
   ]
  },
  {
   "cell_type": "code",
   "execution_count": 6,
   "metadata": {},
   "outputs": [
    {
     "name": "stdout",
     "output_type": "stream",
     "text": [
      "There are 2155 total field/camera_height combinations, with an average of 227.33 images per field/camera height combination\n",
      "There are 1105 field/camera height combinations that meet the 200 image threshold, or 51.28% of all combinations\n"
     ]
    },
    {
     "data": {
      "image/png": "[encoded data removed]",
      "text/plain": [
       "<Figure size 864x576 with 1 Axes>"
      ]
     },
     "metadata": {},
     "output_type": "display_data"
    }
   ],
   "source": [
    "# How many images are we collecting at each camera height/field combination\n",
    "\n",
    "qdf = full_df.copy()\n",
    "\n",
    "# Set to be past a certain date (i.e within the past week)\n",
    "#qdf=qdf[qdf['date_collected'] > '2020-06-14']\n",
    "\n",
    "fdf = qdf[qdf['grower'] != 'greenway coop'] # Filter Out Bradley Field Data From Arkansas \n",
    "qdf = qdf.groupby(['grower', 'farm', 'operating_field_name', 'camera_height']).count()\n",
    "compliant_fields = len(qdf[qdf['_id'] >= 200])\n",
    "print(f'There are {len(qdf)} total field/camera_height combinations, with an average of {(len(fdf)/len(qdf)):.2f} images per field/camera height combination')\n",
    "print(f'There are {compliant_fields} field/camera height combinations that meet the 200 image threshold, or {(compliant_fields/len(qdf))*100:.2f}% of all combinations')\n",
    "\n",
    "plt.figure(figsize=(12,8))\n",
    "plt.axvline(200, linestyle= '--', color='tomato', linewidth=4)\n",
    "plt.title('Number of Images per Field/Camera Height Combination')\n",
    "plt.legend(['200 Image Goal'])\n",
    "plt.hist(qdf['_id'], bins =50, color='forestgreen')\n",
    "plt.xlim(0,800)\n",
    "plt.show()"
   ]
  },
  {
   "cell_type": "code",
   "execution_count": 7,
   "metadata": {},
   "outputs": [
    {
     "data": {
      "image/png": "[encoded data removed]",
      "text/plain": [
       "<Figure size 864x576 with 1 Axes>"
      ]
     },
     "metadata": {},
     "output_type": "display_data"
    },
    {
     "name": "stdout",
     "output_type": "stream",
     "text": [
      "Of the 132 growers we have annotated images for, only 6 or 4.5% have more than 1800 annotated images.\n"
     ]
    },
    {
     "data": {
      "text/plain": [
       "grower          crop_name\n",
       "greenway coop   SOYBEANS     7138\n",
       "hoelscher bros  CORN         1828\n",
       "james connelly  COTTON       2821\n",
       "shewmaker       COTTON       2009\n",
       "skiles          CORN         2032\n",
       "wilmot          SOYBEANS     1987\n",
       "Name: _id, dtype: int64"
      ]
     },
     "execution_count": 7,
     "metadata": {},
     "output_type": "execute_result"
    }
   ],
   "source": [
    "# Are we annotating more than 1800 images for any grower/crop combination?\n",
    "\n",
    "qdf = full_df.copy()\n",
    "\n",
    "# Select only annotated image\n",
    "an =qdf[qdf['has_human_annotation'] == True]\n",
    "\n",
    "an_growers = an.groupby(['grower','crop_name']).count()\n",
    "\n",
    "plt.figure(figsize=(12,8))\n",
    "plt.title('Number of Annotated Images per Grower')\n",
    "plt.hist(an_growers['_id'], bins=20, color='green', linewidth=0)\n",
    "plt.axvline(1800, linestyle='--', color='gold')\n",
    "plt.show()\n",
    "\n",
    "overg = an_growers[an_growers['_id']>1800]\n",
    "\n",
    "print(f'Of the {len(an_growers)} growers we have annotated images for, only {len(overg)} or {(len(overg)/len(an_growers))*100:.1f}% have more than 1800 annotated images.')\n",
    "overg['_id']"
   ]
  },
  {
   "cell_type": "code",
   "execution_count": 30,
   "metadata": {},
   "outputs": [
    {
     "data": {
      "image/png": "[encoded data removed]",
      "text/plain": [
       "<Figure size 864x576 with 1 Axes>"
      ]
     },
     "metadata": {},
     "output_type": "display_data"
    },
    {
     "name": "stdout",
     "output_type": "stream",
     "text": [
      "Out of 294 grower/crop combinations, there were 50 or 17.0% with more than 3 fields listed.\n"
     ]
    },
    {
     "data": {
      "text/plain": [
       "grower                crop_name\n",
       "Allen Below           SOYBEANS      4\n",
       "Andy ISG              SOYBEANS      4\n",
       "Craig Warner          SOYBEANS      5\n",
       "Dave Lunstra          SOYBEANS      4\n",
       "Dirk Haarberg         SOYBEANS      4\n",
       "Eddie Smith           COTTON        5\n",
       "Eric Ristad           SOYBEANS      4\n",
       "Jared Hagert          SOYBEANS      6\n",
       "Jared Osborne         SOYBEANS      4\n",
       "Jason Evans           SOYBEANS      4\n",
       "Jeff Erbes            SOYBEANS      4\n",
       "Josh Omlid            SOYBEANS      6\n",
       "Kyle Patten           SOYBEANS      4\n",
       "Loren Sprouse         SOYBEANS      6\n",
       "Micael Mcelwain       SOYBEANS      4\n",
       "Neil Lee              COTTON        5\n",
       "Nikki Meyer           SOYBEANS      6\n",
       "Robert Shoemaker      SOYBEANS      5\n",
       "Rodney Dawson         COTTON        4\n",
       "Ron Glissendorf       SOYBEANS      6\n",
       "Steve Johnson         SOYBEANS      6\n",
       "Tim Woods             COTTON        5\n",
       "Todd Ochsner          SOYBEANS      6\n",
       "Tony Peirick          SOYBEANS      4\n",
       "Tyler Deen            COTTON        6\n",
       "arva intelligence     SOYBEANS      5\n",
       "autry farms           SOYBEANS      4\n",
       "c&j sageser           COTTON        4\n",
       "chad phillipe         COTTON        5\n",
       "d&l farms             COTTON        5\n",
       "eddie smith           COTTON        4\n",
       "goodman planting llc  COTTON        4\n",
       "greenway coop         SOYBEANS     15\n",
       "guetterman            SOYBEANS      4\n",
       "hoelscher bros        CORN          5\n",
       "hunter                SOYBEANS      4\n",
       "james connelly        COTTON        5\n",
       "jason betts           SOYBEANS      4\n",
       "larry mcclendon       COTTON        4\n",
       "levi gaines           COTTON        4\n",
       "pilgrim               COTTON        5\n",
       "ron holthouse         COTTON        7\n",
       "                      SOYBEANS      7\n",
       "shawn becker          SOYBEANS      4\n",
       "shewmaker             COTTON        5\n",
       "skiles                CORN          7\n",
       "tom gregory           COTTON        5\n",
       "tyson price           COTTON        4\n",
       "wildy family farms    COTTON        4\n",
       "wilmot                SOYBEANS      4\n",
       "Name: count, dtype: int64"
      ]
     },
     "execution_count": 30,
     "metadata": {},
     "output_type": "execute_result"
    }
   ],
   "source": [
    "# Are we collecting too many fields per grower per crop (>3 fields)? (Demo fields excluded from this)\n",
    "\n",
    "qdf = full_df.copy()\n",
    "fcg_combos = qdf.groupby(['grower', 'operating_field_name','crop_name']).count().reset_index()\n",
    "fcg_combos['count'] = 1\n",
    "counts = fcg_combos.groupby(['grower', 'crop_name']).count().groupby(['count']).count()['_id']\n",
    "\n",
    "plt.figure(figsize=(12,8))\n",
    "plt.bar(x= counts.index, height = counts)\n",
    "plt.title('Numer of Fields Imaged per Grower/Crop Combination')\n",
    "plt.axvline(3.5, color='darkorange', linestyle='--')\n",
    "plt.xlim(0.5,15.5)\n",
    "plt.ylabel('Number of Grower/Crop Combinations')\n",
    "plt.legend(['3 Field Cutoff'])\n",
    "plt.savefig('grower_fields.png')\n",
    "plt.show()\n",
    "\n",
    "over = avgs[avgs>3]\n",
    "print(f'Out of {len(avgs)} grower/crop combinations, there were {len(over)} or {(len(over)/len(avgs))*100:.1f}% with more than 3 fields listed.')\n",
    "over"
   ]
  },
  {
   "cell_type": "code",
   "execution_count": null,
   "metadata": {
    "jupyter": {
     "source_hidden": true
    }
   },
   "outputs": [],
   "source": [
    "# Are we collecting too many fields per grower per crop (>3 fields)? (Demo fields excluded from this)\n",
    "\n"
   ]
  },
  {
   "cell_type": "code",
   "execution_count": 9,
   "metadata": {},
   "outputs": [
    {
     "data": {
      "text/html": [
       "<div>\n",
       "<style scoped>\n",
       "    .dataframe tbody tr th:only-of-type {\n",
       "        vertical-align: middle;\n",
       "    }\n",
       "\n",
       "    .dataframe tbody tr th {\n",
       "        vertical-align: top;\n",
       "    }\n",
       "\n",
       "    .dataframe thead th {\n",
       "        text-align: right;\n",
       "    }\n",
       "</style>\n",
       "<table border=\"1\" class=\"dataframe\">\n",
       "  <thead>\n",
       "    <tr style=\"text-align: right;\">\n",
       "      <th></th>\n",
       "      <th>Damage Type</th>\n",
       "      <th>Corn Fields</th>\n",
       "      <th>Cotton Fields</th>\n",
       "      <th>Soybeans Fields</th>\n",
       "    </tr>\n",
       "  </thead>\n",
       "  <tbody>\n",
       "    <tr>\n",
       "      <th>0</th>\n",
       "      <td>CUPPING</td>\n",
       "      <td>2</td>\n",
       "      <td>1</td>\n",
       "      <td>0</td>\n",
       "    </tr>\n",
       "    <tr>\n",
       "      <th>1</th>\n",
       "      <td>OTHER</td>\n",
       "      <td>0</td>\n",
       "      <td>2</td>\n",
       "      <td>16</td>\n",
       "    </tr>\n",
       "    <tr>\n",
       "      <th>2</th>\n",
       "      <td>SPOTTING</td>\n",
       "      <td>0</td>\n",
       "      <td>1</td>\n",
       "      <td>2</td>\n",
       "    </tr>\n",
       "    <tr>\n",
       "      <th>3</th>\n",
       "      <td>TATTERING</td>\n",
       "      <td>2</td>\n",
       "      <td>1</td>\n",
       "      <td>3</td>\n",
       "    </tr>\n",
       "    <tr>\n",
       "      <th>4</th>\n",
       "      <td>WILTING</td>\n",
       "      <td>1</td>\n",
       "      <td>0</td>\n",
       "      <td>0</td>\n",
       "    </tr>\n",
       "    <tr>\n",
       "      <th>5</th>\n",
       "      <td>YELLOWING</td>\n",
       "      <td>6</td>\n",
       "      <td>3</td>\n",
       "      <td>5</td>\n",
       "    </tr>\n",
       "  </tbody>\n",
       "</table>\n",
       "</div>"
      ],
      "text/plain": [
       "  Damage Type  Corn Fields  Cotton Fields  Soybeans Fields\n",
       "0     CUPPING            2              1                0\n",
       "1       OTHER            0              2               16\n",
       "2    SPOTTING            0              1                2\n",
       "3   TATTERING            2              1                3\n",
       "4     WILTING            1              0                0\n",
       "5   YELLOWING            6              3                5"
      ]
     },
     "execution_count": 9,
     "metadata": {},
     "output_type": "execute_result"
    }
   ],
   "source": [
    "# Should we aim to collect more data on damaged or unhealthy crops? \n",
    "qdf =full_df.copy()\n",
    "from sklearn.preprocessing import MultiLabelBinarizer\n",
    "\n",
    "# One-hot encoding each unique weed\n",
    "s = qdf['crop_damage']\n",
    "mlb = MultiLabelBinarizer()\n",
    "w= pd.DataFrame(mlb.fit_transform(s),columns=mlb.classes_, index=qdf.index)\n",
    "l = qdf[['grower', 'farm','operating_field_name','crop_name']]\n",
    "damage_df = pd.merge(w, l, left_index=True, right_index=True)\n",
    "\n",
    "damaged_fields = damage_df.groupby(['crop_name','operating_field_name']).sum()\n",
    "damaged_fields = damaged_fields[damaged_fields['NONE']==0].reset_index()\n",
    "\n",
    "# Count Fields with Crop Damage\n",
    "damages = ['CUPPING', 'OTHER', 'SPOTTING', 'TATTERING', 'WILTING', 'YELLOWING']\n",
    "dmg = pd.Series(damages, name='Damage Type')\n",
    "master=pd.Series(damages, name = 'crop_damage')\n",
    "crops = damaged_fields.crop_name.unique()\n",
    "\n",
    "for c in crops:\n",
    "    dfs = damaged_fields[damaged_fields['crop_name']==c]\n",
    "    ds = []\n",
    "    for d in damages:\n",
    "        ds.append(len(dfs[dfs[d]>0]))\n",
    "    ds = pd.Series(ds, name=(c[0] + c[1:].lower()+' Fields'))\n",
    "    dmg = pd.concat([dmg, ds], axis=1)\n",
    "    \n",
    "dmg"
   ]
  },
  {
   "cell_type": "code",
   "execution_count": 10,
   "metadata": {},
   "outputs": [
    {
     "data": {
      "text/html": [
       "<div>\n",
       "<style scoped>\n",
       "    .dataframe tbody tr th:only-of-type {\n",
       "        vertical-align: middle;\n",
       "    }\n",
       "\n",
       "    .dataframe tbody tr th {\n",
       "        vertical-align: top;\n",
       "    }\n",
       "\n",
       "    .dataframe thead th {\n",
       "        text-align: right;\n",
       "    }\n",
       "</style>\n",
       "<table border=\"1\" class=\"dataframe\">\n",
       "  <thead>\n",
       "    <tr style=\"text-align: right;\">\n",
       "      <th></th>\n",
       "      <th>Crop Health</th>\n",
       "      <th>Corn Fields</th>\n",
       "      <th>Soybeans Fields</th>\n",
       "      <th>Cotton Fields</th>\n",
       "    </tr>\n",
       "  </thead>\n",
       "  <tbody>\n",
       "    <tr>\n",
       "      <th>0</th>\n",
       "      <td>HEALTHY</td>\n",
       "      <td>91</td>\n",
       "      <td>394</td>\n",
       "      <td>171</td>\n",
       "    </tr>\n",
       "    <tr>\n",
       "      <th>1</th>\n",
       "      <td>STRESSED</td>\n",
       "      <td>13</td>\n",
       "      <td>11</td>\n",
       "      <td>4</td>\n",
       "    </tr>\n",
       "    <tr>\n",
       "      <th>2</th>\n",
       "      <td>REPLANTED_HEALTHY</td>\n",
       "      <td>1</td>\n",
       "      <td>2</td>\n",
       "      <td>0</td>\n",
       "    </tr>\n",
       "    <tr>\n",
       "      <th>3</th>\n",
       "      <td>NOT_STRESSED</td>\n",
       "      <td>0</td>\n",
       "      <td>1</td>\n",
       "      <td>0</td>\n",
       "    </tr>\n",
       "  </tbody>\n",
       "</table>\n",
       "</div>"
      ],
      "text/plain": [
       "         Crop Health  Corn Fields  Soybeans Fields  Cotton Fields\n",
       "0            HEALTHY           91              394            171\n",
       "1           STRESSED           13               11              4\n",
       "2  REPLANTED_HEALTHY            1                2              0\n",
       "3       NOT_STRESSED            0                1              0"
      ]
     },
     "execution_count": 10,
     "metadata": {},
     "output_type": "execute_result"
    }
   ],
   "source": [
    "# Are we collecting enough fields with different crop_health conditions?\n",
    "qdf = full_df.copy()\n",
    "\n",
    "crops = ['CORN','SOYBEANS','COTTON']\n",
    "field_health = qdf.groupby(['crop_name','operating_field_name','crop_health']).count().reset_index()\n",
    "chs = field_health['crop_health'].unique()\n",
    "crop_health = pd.Series(chs, name='Crop Health')\n",
    "\n",
    "for c in crops:\n",
    "    he = field_health[field_health['crop_name']==c]\n",
    "    hl = []\n",
    "    for h in chs:\n",
    "        nh = he[he['crop_health'] == h]\n",
    "        hl.append(len(nh))\n",
    "    hlt = pd.Series(hl, name=(c[0] + c[1:].lower()+' Fields'))\n",
    "    crop_health = pd.concat([crop_health, hlt], axis=1)\n",
    "\n",
    "crop_health"
   ]
  },
  {
   "cell_type": "code",
   "execution_count": null,
   "metadata": {},
   "outputs": [],
   "source": []
  }
 ],
 "metadata": {
  "kernelspec": {
   "display_name": "Python 3",
   "language": "python",
   "name": "python3"
  },
  "language_info": {
   "codemirror_mode": {
    "name": "ipython",
    "version": 3
   },
   "file_extension": ".py",
   "mimetype": "text/x-python",
   "name": "python",
   "nbconvert_exporter": "python",
   "pygments_lexer": "ipython3",
   "version": "3.6.9"
  }
 },
 "nbformat": 4,
 "nbformat_minor": 4
}
